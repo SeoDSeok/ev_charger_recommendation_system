{
 "cells": [
  {
   "cell_type": "code",
   "execution_count": 1,
   "metadata": {},
   "outputs": [
    {
     "name": "stderr",
     "output_type": "stream",
     "text": [
      "/usr/local/lib/python3.8/dist-packages/scipy/__init__.py:146: UserWarning: A NumPy version >=1.16.5 and <1.23.0 is required for this version of SciPy (detected version 1.24.4\n",
      "  warnings.warn(f\"A NumPy version >={np_minversion} and <{np_maxversion}\"\n"
     ]
    }
   ],
   "source": [
    "import torch\n",
    "import torch.optim as optim\n",
    "import numpy as np\n",
    "from NGCF import NGCF\n",
    "from utility.helper import *\n",
    "from utility.load_data import *\n",
    "import multiprocessing\n",
    "import heapq\n",
    "import utility.metrics as metrics\n",
    "\n",
    "import warnings\n",
    "warnings.filterwarnings('ignore')\n",
    "from time import time\n",
    "import easydict\n",
    "\n",
    "import numpy as np\n",
    "import matplotlib.pyplot as plt\n",
    "from tqdm import tqdm"
   ]
  },
  {
   "cell_type": "code",
   "execution_count": 2,
   "metadata": {},
   "outputs": [],
   "source": [
    "args = easydict.EasyDict({\n",
    "    'dataset': 'evdriver',\n",
    "    'regs' : '[1e-5]',\n",
    "    'embed_size': 64,\n",
    "    'layer_size': '[64,64,64]',\n",
    "    'lr': 0.0001,\n",
    "    'save_flag': 1,\n",
    "    'pretrain': 0,\n",
    "    'batch_size': 1024,\n",
    "    'epoch': 100,\n",
    "    'verbose': 1,\n",
    "    'node_dropout': [0.1],\n",
    "    'mess_dropout': [0.1,0.1,0.1],\n",
    "    'gpu_id': 0,\n",
    "    'weights_path': './models',\n",
    "    'Ks': '[20, 40, 60, 80, 100]',\n",
    "    'test_flag':'part'})\n",
    "\n",
    "Ks = eval(args.Ks)\n",
    "cores = multiprocessing.cpu_count() // 2"
   ]
  },
  {
   "cell_type": "code",
   "execution_count": 3,
   "metadata": {},
   "outputs": [],
   "source": [
    "def ranklist_by_heapq(user_pos_test, test_items, rating, Ks):\n",
    "    item_score = {}\n",
    "    for i in test_items:\n",
    "        item_score[i] = rating[i]\n",
    "\n",
    "    K_max = max(Ks)\n",
    "    K_max_item_score = heapq.nlargest(K_max, item_score, key=item_score.get)\n",
    "\n",
    "    r = []\n",
    "    for i in K_max_item_score:\n",
    "        if i in user_pos_test:\n",
    "            r.append(1)\n",
    "        else:\n",
    "            r.append(0)\n",
    "    auc = 0.\n",
    "    return r, auc\n",
    "\n",
    "def get_auc(item_score, user_pos_test):\n",
    "    item_score = sorted(item_score.items(), key=lambda kv: kv[1])\n",
    "    item_score.reverse()\n",
    "    item_sort = [x[0] for x in item_score]\n",
    "    posterior = [x[1] for x in item_score]\n",
    "\n",
    "    r = []\n",
    "    for i in item_sort:\n",
    "        if i in user_pos_test:\n",
    "            r.append(1)\n",
    "        else:\n",
    "            r.append(0)\n",
    "    auc = metrics.auc(ground_truth=r, prediction=posterior)\n",
    "    return auc\n",
    "\n",
    "def ranklist_by_sorted(user_pos_test, test_items, rating, Ks):\n",
    "    item_score = {}\n",
    "    for i in test_items:\n",
    "        item_score[i] = rating[i]\n",
    "\n",
    "    K_max = max(Ks)\n",
    "    K_max_item_score = heapq.nlargest(K_max, item_score, key=item_score.get)\n",
    "\n",
    "    r = []\n",
    "    for i in K_max_item_score:\n",
    "        if i in user_pos_test:\n",
    "            r.append(1)\n",
    "        else:\n",
    "            r.append(0)\n",
    "    auc = get_auc(item_score, user_pos_test)\n",
    "    return r, auc\n",
    "\n",
    "def get_performance(user_pos_test, r, auc, Ks):\n",
    "    precision, recall, ndcg, hit_ratio = [], [], [], []\n",
    "\n",
    "    for K in Ks:\n",
    "        precision.append(metrics.precision_at_k(r, K))\n",
    "        recall.append(metrics.recall_at_k(r, K, len(user_pos_test)))\n",
    "        ndcg.append(metrics.ndcg_at_k(r, K, user_pos_test))\n",
    "        hit_ratio.append(metrics.hit_at_k(r, K))\n",
    "\n",
    "    return {'recall': np.array(recall), 'precision': np.array(precision),\n",
    "            'ndcg': np.array(ndcg), 'hit_ratio': np.array(hit_ratio), 'auc': auc}\n",
    "\n",
    "def test_one_user(x):\n",
    "    # user u's ratings for user u\n",
    "    rating = x[0]\n",
    "    #uid\n",
    "    u = x[1]\n",
    "    #user u's items in the training set\n",
    "    try:\n",
    "        training_items = data_generator.train_items[u]\n",
    "    except Exception:\n",
    "        training_items = []\n",
    "    #user u's items in the test set\n",
    "    user_pos_test = data_generator.test_set[u]\n",
    "\n",
    "    all_items = set(range(ITEM_NUM))\n",
    "\n",
    "    test_items = list(all_items - set(training_items))\n",
    "\n",
    "    if args.test_flag == 'part':\n",
    "        r, auc = ranklist_by_heapq(user_pos_test, test_items, rating, Ks)\n",
    "    else:\n",
    "        r, auc = ranklist_by_sorted(user_pos_test, test_items, rating, Ks)\n",
    "\n",
    "    return get_performance(user_pos_test, r, auc, Ks)\n",
    "\n",
    "def test(model, users_to_test, drop_flag=False, batch_test_flag=False):\n",
    "    result = {'precision': np.zeros(len(Ks)), 'recall': np.zeros(len(Ks)), 'ndcg': np.zeros(len(Ks)),\n",
    "              'hit_ratio': np.zeros(len(Ks)), 'auc': 0.}\n",
    "\n",
    "    pool = multiprocessing.Pool(cores)\n",
    "\n",
    "    u_batch_size = BATCH_SIZE * 2\n",
    "    i_batch_size = BATCH_SIZE\n",
    "\n",
    "    test_users = users_to_test\n",
    "    n_test_users = len(test_users)\n",
    "    n_user_batchs = n_test_users // u_batch_size + 1\n",
    "\n",
    "    count = 0\n",
    "\n",
    "    for u_batch_id in range(n_user_batchs):\n",
    "        start = u_batch_id * u_batch_size\n",
    "        end = (u_batch_id + 1) * u_batch_size\n",
    "\n",
    "        user_batch = test_users[start: end]\n",
    "\n",
    "        if batch_test_flag:\n",
    "            # batch-item test\n",
    "            n_item_batchs = ITEM_NUM // i_batch_size + 1\n",
    "            rate_batch = np.zeros(shape=(len(user_batch), ITEM_NUM))\n",
    "\n",
    "            i_count = 0\n",
    "            for i_batch_id in range(n_item_batchs):\n",
    "                i_start = i_batch_id * i_batch_size\n",
    "                i_end = min((i_batch_id + 1) * i_batch_size, ITEM_NUM)\n",
    "\n",
    "                item_batch = range(i_start, i_end)\n",
    "\n",
    "                if drop_flag == False:\n",
    "                    u_g_embeddings, pos_i_g_embeddings, _ = model(user_batch,\n",
    "                                                                  item_batch,\n",
    "                                                                  [],\n",
    "                                                                  drop_flag=False)\n",
    "                    i_rate_batch = model.rating(u_g_embeddings, pos_i_g_embeddings).detach().cpu()\n",
    "                else:\n",
    "                    u_g_embeddings, pos_i_g_embeddings, _ = model(user_batch,\n",
    "                                                                  item_batch,\n",
    "                                                                  [],\n",
    "                                                                  drop_flag=True)\n",
    "                    i_rate_batch = model.rating(u_g_embeddings, pos_i_g_embeddings).detach().cpu()\n",
    "\n",
    "                rate_batch[:, i_start: i_end] = i_rate_batch\n",
    "                i_count += i_rate_batch.shape[1]\n",
    "\n",
    "            assert i_count == ITEM_NUM\n",
    "\n",
    "        else:\n",
    "            # all-item test\n",
    "            item_batch = range(ITEM_NUM)\n",
    "\n",
    "            if drop_flag == False:\n",
    "                u_g_embeddings, pos_i_g_embeddings, _ = model(user_batch,\n",
    "                                                              item_batch,\n",
    "                                                              [],\n",
    "                                                              drop_flag=False)\n",
    "                rate_batch = model.rating(u_g_embeddings, pos_i_g_embeddings).detach().cpu()\n",
    "            else:\n",
    "                u_g_embeddings, pos_i_g_embeddings, _ = model(user_batch,\n",
    "                                                              item_batch,\n",
    "                                                              [],\n",
    "                                                              drop_flag=True)\n",
    "                rate_batch = model.rating(u_g_embeddings, pos_i_g_embeddings).detach().cpu()\n",
    "\n",
    "        user_batch_rating_uid = zip(rate_batch.numpy(), user_batch)\n",
    "        batch_result = pool.map(test_one_user, user_batch_rating_uid)\n",
    "        count += len(batch_result)\n",
    "\n",
    "        for re in batch_result:\n",
    "            result['precision'] += re['precision']/n_test_users\n",
    "            result['recall'] += re['recall']/n_test_users\n",
    "            result['ndcg'] += re['ndcg']/n_test_users\n",
    "            result['hit_ratio'] += re['hit_ratio']/n_test_users\n",
    "            result['auc'] += re['auc']/n_test_users\n",
    "\n",
    "\n",
    "    assert count == n_test_users\n",
    "    pool.close()\n",
    "    return result\n"
   ]
  },
  {
   "cell_type": "code",
   "execution_count": 4,
   "metadata": {},
   "outputs": [
    {
     "name": "stdout",
     "output_type": "stream",
     "text": [
      "n_users=185336, n_items=30895\n",
      "n_interactions=852546\n",
      "n_train=667210, n_test=185336, sparsity=0.00015\n"
     ]
    }
   ],
   "source": [
    "data_generator = Data(path='../Data/evdriver', batch_size=1024)\n",
    "USR_NUM, ITEM_NUM = data_generator.n_users, data_generator.n_items\n",
    "N_TRAIN, N_TEST = data_generator.n_train, data_generator.n_test\n",
    "BATCH_SIZE = args.batch_size"
   ]
  },
  {
   "cell_type": "code",
   "execution_count": 5,
   "metadata": {},
   "outputs": [
    {
     "name": "stdout",
     "output_type": "stream",
     "text": [
      "already load adj matrix (216231, 216231) 0.3528873920440674\n"
     ]
    }
   ],
   "source": [
    "plain_adj, norm_adj, mean_adj = data_generator.get_adj_mat()"
   ]
  },
  {
   "cell_type": "code",
   "execution_count": 6,
   "metadata": {},
   "outputs": [],
   "source": [
    "users_to_test = list(data_generator.test_set.keys())"
   ]
  },
  {
   "cell_type": "code",
   "execution_count": 7,
   "metadata": {},
   "outputs": [],
   "source": [
    "import pickle\n",
    "torch.manual_seed(34)\n",
    "np.random.seed(34)\n",
    "\n",
    "drop_flag = False\n",
    "batch_test_flag=False\n",
    "\n",
    "args.device = torch.device('cuda:' + str(args.gpu_id))\n",
    "model = NGCF(data_generator.n_users,\n",
    "                 data_generator.n_items,\n",
    "                 norm_adj, args).to(args.device)\n",
    "with open('./ngcf.pkl', 'rb') as f:\n",
    "    model.load_state_dict(torch.load(f))"
   ]
  },
  {
   "cell_type": "code",
   "execution_count": 9,
   "metadata": {},
   "outputs": [
    {
     "name": "stdout",
     "output_type": "stream",
     "text": [
      "91\n"
     ]
    }
   ],
   "source": [
    "result = {'precision': np.zeros(len(Ks)), 'recall': np.zeros(len(Ks)), 'ndcg': np.zeros(len(Ks)),\n",
    "            'hit_ratio': np.zeros(len(Ks)), 'auc': 0.}\n",
    "\n",
    "pool = multiprocessing.Pool(cores)\n",
    "\n",
    "u_batch_size = BATCH_SIZE * 2\n",
    "i_batch_size = BATCH_SIZE\n",
    "\n",
    "test_users = users_to_test\n",
    "n_test_users = len(test_users)\n",
    "n_user_batchs = n_test_users // u_batch_size + 1\n",
    "print(n_user_batchs)\n",
    "count = 0\n",
    "\n",
    "entire_rank = torch.tensor([])"
   ]
  },
  {
   "cell_type": "code",
   "execution_count": 10,
   "metadata": {},
   "outputs": [
    {
     "name": "stderr",
     "output_type": "stream",
     "text": [
      "100%|██████████| 91/91 [05:43<00:00,  3.77s/it]\n"
     ]
    }
   ],
   "source": [
    "import torch\n",
    "import numpy as np\n",
    "import os\n",
    "\n",
    "# 저장할 디렉토리 설정\n",
    "save_dir = './rank_batches_LightGCN'\n",
    "os.makedirs(save_dir, exist_ok=True)\n",
    "\n",
    "# 배치 처리 루프\n",
    "for u_batch_id in tqdm(range(n_user_batchs)):\n",
    "    start = u_batch_id * u_batch_size\n",
    "    end = (u_batch_id + 1) * u_batch_size\n",
    "\n",
    "    user_batch = test_users[start: end]\n",
    "\n",
    "    if batch_test_flag:\n",
    "        # 배치-아이템 테스트\n",
    "        n_item_batchs = ITEM_NUM // i_batch_size + 1\n",
    "        rate_batch = np.zeros(shape=(len(user_batch), ITEM_NUM))\n",
    "\n",
    "        i_count = 0\n",
    "        for i_batch_id in range(n_item_batchs):\n",
    "            i_start = i_batch_id * i_batch_size\n",
    "            i_end = min((i_batch_id + 1) * i_batch_size, ITEM_NUM)\n",
    "\n",
    "            item_batch = range(i_start, i_end)\n",
    "\n",
    "            if not drop_flag:\n",
    "                u_g_embeddings, pos_i_g_embeddings, _ = model(user_batch, item_batch, [], drop_flag=False)\n",
    "                i_rate_batch = model.rating(u_g_embeddings, pos_i_g_embeddings).detach().cpu().numpy()\n",
    "            else:\n",
    "                u_g_embeddings, pos_i_g_embeddings, _ = model(user_batch, item_batch, [], drop_flag=True)\n",
    "                i_rate_batch = model.rating(u_g_embeddings, pos_i_g_embeddings).detach().cpu().numpy()\n",
    "\n",
    "            rate_batch[:, i_start: i_end] = i_rate_batch\n",
    "            i_count += i_rate_batch.shape[1]\n",
    "\n",
    "        assert i_count == ITEM_NUM\n",
    "\n",
    "    else:\n",
    "        # 모든 아이템 테스트\n",
    "        item_batch = range(ITEM_NUM)\n",
    "\n",
    "        if not drop_flag:\n",
    "            u_g_embeddings, pos_i_g_embeddings, _ = model(user_batch, item_batch, [], drop_flag=False)\n",
    "            rate_batch = model.rating(u_g_embeddings, pos_i_g_embeddings).detach().cpu().numpy()\n",
    "        else:\n",
    "            u_g_embeddings, pos_i_g_embeddings, _ = model(user_batch, item_batch, [], drop_flag=True)\n",
    "            rate_batch = model.rating(u_g_embeddings, pos_i_g_embeddings).detach().cpu().numpy()\n",
    "\n",
    "    # 배치 결과 저장\n",
    "    batch_file = os.path.join(save_dir, f'batch_{u_batch_id}.npy')\n",
    "    np.save(batch_file, rate_batch)\n",
    "\n",
    "    user_batch_rating_uid = zip(rate_batch, user_batch)\n",
    "    batch_result = pool.map(test_one_user, user_batch_rating_uid)\n",
    "    count += len(batch_result)\n",
    "\n",
    "    for re in batch_result:\n",
    "        result['precision'] += re['precision'] / n_test_users\n",
    "        result['recall'] += re['recall'] / n_test_users\n",
    "        result['ndcg'] += re['ndcg'] / n_test_users\n",
    "        result['hit_ratio'] += re['hit_ratio'] / n_test_users\n",
    "        result['auc'] += re['auc'] / n_test_users\n",
    "\n",
    "assert count == n_test_users\n",
    "pool.close()"
   ]
  },
  {
   "cell_type": "code",
   "execution_count": 11,
   "metadata": {},
   "outputs": [],
   "source": [
    "import pickle, pickle5\n",
    "import pandas as pd\n",
    "\n",
    "with open('../Data/evdriver/preprocessed/meta.pickle', 'rb') as f:\n",
    "    meta = pickle.load(f)\n",
    "\n",
    "with open('../Data/evdriver/preprocessed/drivers.pickle', 'rb') as f:\n",
    "    train_dv = pickle.load(f)\n",
    "\n",
    "with open('../Data/evdriver/preprocessed/testset_df.pickle', 'rb') as f:\n",
    "    test_dv = pickle.load(f)\n",
    "\n",
    "test_dv = test_dv.sort_values(by=['Driver']).reset_index(drop=True)\n"
   ]
  },
  {
   "cell_type": "code",
   "execution_count": 12,
   "metadata": {},
   "outputs": [],
   "source": [
    "def evaluation(result, driver_id, test_dv, meta, criteria):\n",
    "    location = test_dv.loc[test_dv['Driver'] == driver_id][criteria].values[0]\n",
    "    teststat = test_dv.loc[test_dv['Driver'] == driver_id]['statid'].values[0]\n",
    "    speed = test_dv.loc[test_dv['Driver'] == driver_id]['speed'].values\n",
    "    if len(speed) == 1:\n",
    "        flag = True\n",
    "    else:\n",
    "        flag = False\n",
    "\n",
    "    driver_pref = result[driver_id]\n",
    "    #[1011, 14000, 13000] -> statid의 list\n",
    "    driver_rank = driver_pref.argsort()[::-1].astype(str)\n",
    "    #하나의 Cluster로 위치 필터링\n",
    "    driver_meta = meta[meta[criteria] == location]\n",
    "    recommended_df = pd.DataFrame([])\n",
    "\n",
    "    for i in range(len(driver_rank)):\n",
    "        if len(recommended_df) > 19:\n",
    "            false_count = len(recommended_df) - recommended_df.duplicated('statid').sum()\n",
    "            if false_count == 20:\n",
    "                break\n",
    "        #추천된 statid가 Cluster에 속하면,\n",
    "        if driver_rank[i] in driver_meta['statid'].values:\n",
    "            stat_driver = driver_meta.loc[driver_meta['statid'] == driver_rank[i]]\n",
    "            #추천된 statid의 speed가 testset의 speed와 같으면,\n",
    "            if flag:\n",
    "                if stat_driver['speed'].values[0] == speed:\n",
    "                    recommended_df = pd.concat([recommended_df, stat_driver])\n",
    "            else:\n",
    "                recommended_df = pd.concat([recommended_df, stat_driver])\n",
    "                \n",
    "    if flag:\n",
    "        recommended_df = recommended_df.loc[recommended_df['speed'] == speed[0]].reset_index(drop=True)\n",
    "    else:\n",
    "        recommended_df = recommended_df.drop_duplicates('statid').reset_index(drop=True)\n",
    "\n",
    "    try:\n",
    "        rank = recommended_df.loc[recommended_df['statid'] == teststat].index[0] \n",
    "        rank = rank + 1\n",
    "    except:\n",
    "        rank = 0\n",
    "    return recommended_df, rank, len(recommended_df)\n",
    "\n",
    "def get_coordinates(driver_id, meta, test_dv, candidate):\n",
    "    gt_zscode = test_dv.loc[test_dv['Driver'] == driver_id]['zscode'].values[0]\n",
    "    gt_cluster = test_dv.loc[test_dv['Driver'] == driver_id]['Cluster'].values[0]\n",
    "    gt_speeds = test_dv.loc[test_dv['Driver'] == driver_id]['speed']\n",
    "    if len(gt_speeds.values) == 1:\n",
    "        gt_speed = gt_speeds.values[0]\n",
    "    else:\n",
    "        gt_speed = gt_speeds.value_counts().keys()[0]\n",
    "    \n",
    "    meta_zscode = meta[meta['zscode'] == gt_zscode]\n",
    "    meta_zscode = meta_zscode.loc[meta_zscode['speed'] == gt_speed]\n",
    "    meta_cluster = meta.loc[meta['Cluster'] == gt_cluster]\n",
    "    meta_cluster = meta_cluster.loc[meta_cluster['speed'] == gt_speed]\n",
    "\n",
    "    zscode_cor = meta_zscode[['lat','lng']].values\n",
    "    cluster_cor = meta_cluster[['lat','lng']].values\n",
    "    candidate_cor = candidate[['lat','lng']].values\n",
    "    ground_truth_cor = test_dv.loc[test_dv['Driver'] == driver_id][['lat','lng']].values\n",
    "    \n",
    "\n",
    "    return zscode_cor, cluster_cor, candidate_cor, ground_truth_cor\n",
    "\n",
    "def show_plot(zscode_cor, cluster_cor, candidate_cor, gt_cor, driver_id):\n",
    "    plt.scatter(zscode_cor[:, 1], zscode_cor[:, 0], marker='o', color='blue', label='zscode', s=5)\n",
    "    plt.scatter(cluster_cor[:, 1], cluster_cor[:, 0], marker='o', color='red', label='cluster', s=5)\n",
    "    plt.scatter(candidate_cor[:, 1], candidate_cor[:, 0], marker='o', color='green', label='candidate', s=5)\n",
    "    plt.scatter(gt_cor[:, 1], gt_cor[:, 0], marker='x', color='black', label='Ground Truth', s=30)\n",
    "    plt.xlabel('Longitude')\n",
    "    plt.ylabel('Latitude')\n",
    "    plt.title(f'Scatter Plot of Coordinates for driver: {driver_id}')\n",
    "    plt.legend()\n",
    "    plt.show()\n",
    "\n",
    "def visulization(result, driver_id, test_dv, meta, criteria):\n",
    "    recommended_df, rank, length = evaluation(result, driver_id, test_dv, meta, criteria)\n",
    "    zscode_cor, cluster_cor, candidate_cor, gt_cor = get_coordinates(driver_id, meta, test_dv, recommended_df)\n",
    "    show_plot(zscode_cor, cluster_cor, candidate_cor, gt_cor, driver_id)\n",
    "    return "
   ]
  },
  {
   "cell_type": "code",
   "execution_count": 13,
   "metadata": {},
   "outputs": [
    {
     "data": {
      "text/plain": [
       "array([[-0.7464053 , -0.24773917,  1.756024  , ...,  0.92046344,\n",
       "        -0.601286  ,  0.3338473 ],\n",
       "       [ 0.17216192,  0.06517844,  0.9838509 , ..., -0.07639384,\n",
       "        -0.51114476,  0.791563  ],\n",
       "       [ 0.5758181 ,  1.2027388 , -0.49706972, ...,  0.82898575,\n",
       "         1.5943598 , -0.55339193],\n",
       "       ...,\n",
       "       [ 0.3440794 ,  0.18132353, -0.22772469, ...,  0.6557145 ,\n",
       "        -0.09294687,  0.18197979],\n",
       "       [ 0.8933922 ,  0.27389726,  0.09820373, ...,  0.80773383,\n",
       "        -0.42697802,  0.7699312 ],\n",
       "       [-0.19476579,  0.1684702 ,  0.35440147, ...,  1.2744952 ,\n",
       "        -0.12447399,  0.36925766]], dtype=float32)"
      ]
     },
     "execution_count": 13,
     "metadata": {},
     "output_type": "execute_result"
    }
   ],
   "source": [
    "batch_file = os.path.join(save_dir, f'batch_0.npy')\n",
    "rate_batch = np.load(batch_file)\n",
    "rate_batch"
   ]
  },
  {
   "cell_type": "code",
   "execution_count": 14,
   "metadata": {},
   "outputs": [
    {
     "data": {
      "image/png": "[encoded data removed]",
      "text/plain": [
       "<Figure size 640x480 with 1 Axes>"
      ]
     },
     "metadata": {},
     "output_type": "display_data"
    }
   ],
   "source": [
    "visulization(rate_batch, 111, test_dv, meta, 'Cluster')"
   ]
  },
  {
   "cell_type": "code",
   "execution_count": 15,
   "metadata": {},
   "outputs": [
    {
     "data": {
      "image/png": "[encoded data removed]",
      "text/plain": [
       "<Figure size 640x480 with 1 Axes>"
      ]
     },
     "metadata": {},
     "output_type": "display_data"
    }
   ],
   "source": [
    "visulization(rate_batch, 44, test_dv, meta, 'Cluster')"
   ]
  },
  {
   "cell_type": "code",
   "execution_count": 16,
   "metadata": {},
   "outputs": [],
   "source": [
    "test_dv = test_dv.sort_values(by=['Driver']).reset_index(drop=True)"
   ]
  },
  {
   "cell_type": "code",
   "execution_count": 17,
   "metadata": {},
   "outputs": [],
   "source": [
    "def load_and_concatenate_batches(save_dir, n_batches):\n",
    "    batches = []\n",
    "    for u_batch_id in range(n_batches):\n",
    "        batch_file = os.path.join(save_dir, f'batch_{u_batch_id}.npy')\n",
    "        rate_batch = np.load(batch_file)\n",
    "        batches.append(rate_batch)\n",
    "    entire_rank = np.concatenate(batches, axis=0)\n",
    "    return entire_rank\n",
    "\n",
    "# 전체 배치 개수 계산\n",
    "n_batches = 5\n",
    "# save_dir = './rank_batches2'\n",
    "# 저장된 배치 배열을 읽어서 결합\n",
    "entire_rank = load_and_concatenate_batches(save_dir, n_batches)"
   ]
  },
  {
   "cell_type": "code",
   "execution_count": 19,
   "metadata": {},
   "outputs": [
    {
     "data": {
      "text/plain": [
       "10240"
      ]
     },
     "execution_count": 19,
     "metadata": {},
     "output_type": "execute_result"
    }
   ],
   "source": [
    "len(entire_rank)"
   ]
  },
  {
   "cell_type": "code",
   "execution_count": 20,
   "metadata": {},
   "outputs": [],
   "source": [
    "def get_ndcg(recommended_df, test_dv, driver_id, K):\n",
    "    busiid = test_dv.loc[test_dv['Driver'] == driver_id]['busiid'].values[0]\n",
    "    ex = (recommended_df['busiid'] == busiid).values\n",
    "    \n",
    "    ndcgs = []\n",
    "    for j in K:\n",
    "        if len(ex) >= j:\n",
    "            dcg = 0\n",
    "            for i in range(j):\n",
    "                if ex[i] == True:\n",
    "                    dcg += 1/np.log2(2 + i)\n",
    "\n",
    "            idcg = 0\n",
    "            sum_ex = ex.sum()\n",
    "            if sum_ex >= j:\n",
    "                for i in range(j):\n",
    "                    idcg += 1/np.log2(2 + i)\n",
    "            else:\n",
    "                for i in range(sum_ex):\n",
    "                    idcg += 1/np.log2(2 + i)\n",
    "\n",
    "            if idcg == 0:\n",
    "                ndcgs.append(0)\n",
    "            else:\n",
    "                ndcgs.append(dcg/idcg)\n",
    "        else:\n",
    "            ndcgs.append(ndcgs[-1])\n",
    "\n",
    "    return ndcgs"
   ]
  },
  {
   "cell_type": "code",
   "execution_count": 21,
   "metadata": {},
   "outputs": [
    {
     "name": "stderr",
     "output_type": "stream",
     "text": [
      "100%|██████████| 10000/10000 [52:34<00:00,  3.17it/s] \n"
     ]
    }
   ],
   "source": [
    "ndcgs = []\n",
    "for i in tqdm(range(10000)):\n",
    "    a, b, c = evaluation(entire_rank, i, test_dv, meta, 'zscode')\n",
    "    try:\n",
    "        ndcg = get_ndcg(a, test_dv, i, [1, 5, 10, 15, 20])\n",
    "        ndcgs.append(ndcg)\n",
    "    except:\n",
    "        print(i)"
   ]
  },
  {
   "cell_type": "code",
   "execution_count": 22,
   "metadata": {},
   "outputs": [],
   "source": [
    "ndcgs = np.array(ndcgs)\n",
    "np.save('./rank_batches_LightGCN/ndcgs_zscode_10000.npy', ndcgs)"
   ]
  },
  {
   "cell_type": "code",
   "execution_count": 23,
   "metadata": {},
   "outputs": [],
   "source": [
    "zscodendcg = np.load('./rank_batches_LightGCN/ndcgs_zscode_10000.npy')"
   ]
  },
  {
   "cell_type": "code",
   "execution_count": 24,
   "metadata": {},
   "outputs": [
    {
     "data": {
      "text/plain": [
       "array([0.1056    , 0.14881639, 0.21824882, 0.28369824, 0.34087909])"
      ]
     },
     "execution_count": 24,
     "metadata": {},
     "output_type": "execute_result"
    }
   ],
   "source": [
    "zscodendcg.mean(axis=0)"
   ]
  },
  {
   "cell_type": "code",
   "execution_count": 25,
   "metadata": {},
   "outputs": [
    {
     "name": "stderr",
     "output_type": "stream",
     "text": [
      "100%|██████████| 10000/10000 [2:12:11<00:00,  1.26it/s] \n"
     ]
    }
   ],
   "source": [
    "ndcgs1 = []\n",
    "for i in tqdm(range(10000)):\n",
    "    a, b, c = evaluation(entire_rank, i, test_dv, meta, 'Cluster')\n",
    "    try:\n",
    "        ndcg = get_ndcg(a, test_dv, i, [1, 5, 10, 15 ,20])\n",
    "        ndcgs1.append(ndcg)\n",
    "    except:\n",
    "        print(i)"
   ]
  },
  {
   "cell_type": "code",
   "execution_count": 26,
   "metadata": {},
   "outputs": [],
   "source": [
    "ndcgs1 = np.array(ndcgs1)\n",
    "np.save('./rank_batches_LightGCN/ndcgs_cluster_10000.npy', ndcgs1)"
   ]
  },
  {
   "cell_type": "code",
   "execution_count": 27,
   "metadata": {},
   "outputs": [],
   "source": [
    "clusterndcg = np.load('./rank_batches_LightGCN/ndcgs_cluster_10000.npy')"
   ]
  },
  {
   "cell_type": "code",
   "execution_count": 28,
   "metadata": {},
   "outputs": [
    {
     "data": {
      "text/plain": [
       "array([0.1685    , 0.24997083, 0.34020814, 0.39760833, 0.44254769])"
      ]
     },
     "execution_count": 28,
     "metadata": {},
     "output_type": "execute_result"
    }
   ],
   "source": [
    "clusterndcg.mean(axis=0)"
   ]
  },
  {
   "cell_type": "code",
   "execution_count": 29,
   "metadata": {},
   "outputs": [],
   "source": [
    "def get_recall(recommended_df, test_dv, driver_id, K):\n",
    "    criteria = test_dv.loc[test_dv['Driver'] == driver_id]['statid'].values[0]\n",
    "    ex = recommended_df['statid']\n",
    "    \n",
    "    pres_K = []\n",
    "    for k in K:\n",
    "        if (criteria in list(ex[:k])):\n",
    "            pres_K.append(1)\n",
    "        else:\n",
    "            pres_K.append(0)\n",
    "    return np.array(pres_K)"
   ]
  },
  {
   "cell_type": "code",
   "execution_count": 30,
   "metadata": {},
   "outputs": [
    {
     "name": "stderr",
     "output_type": "stream",
     "text": [
      "100%|██████████| 10000/10000 [52:38<00:00,  3.17it/s] \n"
     ]
    }
   ],
   "source": [
    "recalls = np.zeros(5)\n",
    "for i in tqdm(range(10000)):\n",
    "    a, b, c = evaluation(entire_rank, i, test_dv, meta, 'zscode')\n",
    "    try:\n",
    "        recall = get_recall(a, test_dv, i, [1, 5, 10, 15, 20])\n",
    "        recalls += recall\n",
    "    except:\n",
    "        print(i)"
   ]
  },
  {
   "cell_type": "code",
   "execution_count": 31,
   "metadata": {},
   "outputs": [
    {
     "data": {
      "text/plain": [
       "array([0.0128, 0.0752, 0.1417, 0.2029, 0.2554])"
      ]
     },
     "execution_count": 31,
     "metadata": {},
     "output_type": "execute_result"
    }
   ],
   "source": [
    "recalls/10000"
   ]
  },
  {
   "cell_type": "code",
   "execution_count": 33,
   "metadata": {},
   "outputs": [
    {
     "name": "stderr",
     "output_type": "stream",
     "text": [
      "100%|██████████| 10000/10000 [2:12:36<00:00,  1.26it/s] \n"
     ]
    }
   ],
   "source": [
    "recalls1 = np.zeros(5)\n",
    "for i in tqdm(range(10000)):\n",
    "    a, b, c = evaluation(entire_rank, i, test_dv, meta, 'Cluster')\n",
    "    try:\n",
    "        recall = get_recall(a, test_dv, i, [1, 5, 10, 15, 20])\n",
    "        recalls1 += recall\n",
    "    except:\n",
    "        print(i)"
   ]
  },
  {
   "cell_type": "code",
   "execution_count": 34,
   "metadata": {},
   "outputs": [
    {
     "data": {
      "text/plain": [
       "array([0.0641, 0.2982, 0.4819, 0.5898, 0.6596])"
      ]
     },
     "execution_count": 34,
     "metadata": {},
     "output_type": "execute_result"
    }
   ],
   "source": [
    "recalls1/10000"
   ]
  },
  {
   "cell_type": "code",
   "execution_count": null,
   "metadata": {},
   "outputs": [],
   "source": []
  },
  {
   "cell_type": "code",
   "execution_count": null,
   "metadata": {},
   "outputs": [],
   "source": []
  }
 ],
 "metadata": {
  "kernelspec": {
   "display_name": "Python 3 (ipykernel)",
   "language": "python",
   "name": "python3"
  },
  "language_info": {
   "codemirror_mode": {
    "name": "ipython",
    "version": 3
   },
   "file_extension": ".py",
   "mimetype": "text/x-python",
   "name": "python",
   "nbconvert_exporter": "python",
   "pygments_lexer": "ipython3",
   "version": "3.8.10"
  }
 },
 "nbformat": 4,
 "nbformat_minor": 4
}
