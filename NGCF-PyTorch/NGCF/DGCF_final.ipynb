{
 "cells": [
  {
   "cell_type": "code",
   "execution_count": 17,
   "metadata": {},
   "outputs": [],
   "source": [
    "import torch\n",
    "import torch.optim as optim\n",
    "import numpy as np\n",
    "from NGCF import NGCF\n",
    "from utility.helper import *\n",
    "# from utility.batch_test import *\n",
    "from utility.load_data import *\n",
    "import multiprocessing\n",
    "import heapq\n",
    "import utility.metrics as metrics\n",
    "\n",
    "import warnings\n",
    "warnings.filterwarnings('ignore')\n",
    "from time import time\n",
    "import easydict\n",
    "\n",
    "import numpy as np\n",
    "import matplotlib.pyplot as plt\n",
    "from tqdm import tqdm"
   ]
  },
  {
   "cell_type": "code",
   "execution_count": 2,
   "metadata": {},
   "outputs": [],
   "source": [
    "args = easydict.EasyDict({\n",
    "    'dataset': 'evdriver',\n",
    "    'regs' : '[1e-5]',\n",
    "    'embed_size': 64,\n",
    "    'layer_size': '[64,64,64]',\n",
    "    'lr': 0.0001,\n",
    "    'save_flag': 1,\n",
    "    'pretrain': 0,\n",
    "    'batch_size': 1024,\n",
    "    'epoch': 100,\n",
    "    'verbose': 1,\n",
    "    'node_dropout': [0.1],\n",
    "    'mess_dropout': [0.1,0.1,0.1],\n",
    "    'gpu_id': 0,\n",
    "    'weights_path': './models',\n",
    "    'Ks': '[20, 40, 60, 80, 100]',\n",
    "    'test_flag':'part'})\n",
    "\n",
    "Ks = eval(args.Ks)\n",
    "cores = multiprocessing.cpu_count() // 2"
   ]
  },
  {
   "cell_type": "code",
   "execution_count": 3,
   "metadata": {},
   "outputs": [],
   "source": [
    "def ranklist_by_heapq(user_pos_test, test_items, rating, Ks):\n",
    "    item_score = {}\n",
    "    for i in test_items:\n",
    "        item_score[i] = rating[i]\n",
    "\n",
    "    K_max = max(Ks)\n",
    "    K_max_item_score = heapq.nlargest(K_max, item_score, key=item_score.get)\n",
    "\n",
    "    r = []\n",
    "    for i in K_max_item_score:\n",
    "        if i in user_pos_test:\n",
    "            r.append(1)\n",
    "        else:\n",
    "            r.append(0)\n",
    "    auc = 0.\n",
    "    return r, auc\n",
    "\n",
    "def get_auc(item_score, user_pos_test):\n",
    "    item_score = sorted(item_score.items(), key=lambda kv: kv[1])\n",
    "    item_score.reverse()\n",
    "    item_sort = [x[0] for x in item_score]\n",
    "    posterior = [x[1] for x in item_score]\n",
    "\n",
    "    r = []\n",
    "    for i in item_sort:\n",
    "        if i in user_pos_test:\n",
    "            r.append(1)\n",
    "        else:\n",
    "            r.append(0)\n",
    "    auc = metrics.auc(ground_truth=r, prediction=posterior)\n",
    "    return auc\n",
    "\n",
    "def ranklist_by_sorted(user_pos_test, test_items, rating, Ks):\n",
    "    item_score = {}\n",
    "    for i in test_items:\n",
    "        item_score[i] = rating[i]\n",
    "\n",
    "    K_max = max(Ks)\n",
    "    K_max_item_score = heapq.nlargest(K_max, item_score, key=item_score.get)\n",
    "\n",
    "    r = []\n",
    "    for i in K_max_item_score:\n",
    "        if i in user_pos_test:\n",
    "            r.append(1)\n",
    "        else:\n",
    "            r.append(0)\n",
    "    auc = get_auc(item_score, user_pos_test)\n",
    "    return r, auc\n",
    "\n",
    "def get_performance(user_pos_test, r, auc, Ks):\n",
    "    precision, recall, ndcg, hit_ratio = [], [], [], []\n",
    "\n",
    "    for K in Ks:\n",
    "        precision.append(metrics.precision_at_k(r, K))\n",
    "        recall.append(metrics.recall_at_k(r, K, len(user_pos_test)))\n",
    "        ndcg.append(metrics.ndcg_at_k(r, K, user_pos_test))\n",
    "        hit_ratio.append(metrics.hit_at_k(r, K))\n",
    "\n",
    "    return {'recall': np.array(recall), 'precision': np.array(precision),\n",
    "            'ndcg': np.array(ndcg), 'hit_ratio': np.array(hit_ratio), 'auc': auc}\n",
    "\n",
    "def test_one_user(x):\n",
    "    # user u's ratings for user u\n",
    "    rating = x[0]\n",
    "    #uid\n",
    "    u = x[1]\n",
    "    #user u's items in the training set\n",
    "    try:\n",
    "        training_items = data_generator.train_items[u]\n",
    "    except Exception:\n",
    "        training_items = []\n",
    "    #user u's items in the test set\n",
    "    user_pos_test = data_generator.test_set[u]\n",
    "\n",
    "    all_items = set(range(ITEM_NUM))\n",
    "\n",
    "    test_items = list(all_items - set(training_items))\n",
    "\n",
    "    if args.test_flag == 'part':\n",
    "        r, auc = ranklist_by_heapq(user_pos_test, test_items, rating, Ks)\n",
    "    else:\n",
    "        r, auc = ranklist_by_sorted(user_pos_test, test_items, rating, Ks)\n",
    "\n",
    "    return get_performance(user_pos_test, r, auc, Ks)\n",
    "\n",
    "def test(model, users_to_test, drop_flag=False, batch_test_flag=False):\n",
    "    result = {'precision': np.zeros(len(Ks)), 'recall': np.zeros(len(Ks)), 'ndcg': np.zeros(len(Ks)),\n",
    "              'hit_ratio': np.zeros(len(Ks)), 'auc': 0.}\n",
    "\n",
    "    pool = multiprocessing.Pool(cores)\n",
    "\n",
    "    u_batch_size = BATCH_SIZE * 2\n",
    "    i_batch_size = BATCH_SIZE\n",
    "\n",
    "    test_users = users_to_test\n",
    "    n_test_users = len(test_users)\n",
    "    n_user_batchs = n_test_users // u_batch_size + 1\n",
    "\n",
    "    count = 0\n",
    "\n",
    "    for u_batch_id in range(n_user_batchs):\n",
    "        start = u_batch_id * u_batch_size\n",
    "        end = (u_batch_id + 1) * u_batch_size\n",
    "\n",
    "        user_batch = test_users[start: end]\n",
    "\n",
    "        if batch_test_flag:\n",
    "            # batch-item test\n",
    "            n_item_batchs = ITEM_NUM // i_batch_size + 1\n",
    "            rate_batch = np.zeros(shape=(len(user_batch), ITEM_NUM))\n",
    "\n",
    "            i_count = 0\n",
    "            for i_batch_id in range(n_item_batchs):\n",
    "                i_start = i_batch_id * i_batch_size\n",
    "                i_end = min((i_batch_id + 1) * i_batch_size, ITEM_NUM)\n",
    "\n",
    "                item_batch = range(i_start, i_end)\n",
    "\n",
    "                if drop_flag == False:\n",
    "                    u_g_embeddings, pos_i_g_embeddings, _ = model(user_batch,\n",
    "                                                                  item_batch,\n",
    "                                                                  [],\n",
    "                                                                  drop_flag=False)\n",
    "                    i_rate_batch = model.rating(u_g_embeddings, pos_i_g_embeddings).detach().cpu()\n",
    "                else:\n",
    "                    u_g_embeddings, pos_i_g_embeddings, _ = model(user_batch,\n",
    "                                                                  item_batch,\n",
    "                                                                  [],\n",
    "                                                                  drop_flag=True)\n",
    "                    i_rate_batch = model.rating(u_g_embeddings, pos_i_g_embeddings).detach().cpu()\n",
    "\n",
    "                rate_batch[:, i_start: i_end] = i_rate_batch\n",
    "                i_count += i_rate_batch.shape[1]\n",
    "\n",
    "            assert i_count == ITEM_NUM\n",
    "\n",
    "        else:\n",
    "            # all-item test\n",
    "            item_batch = range(ITEM_NUM)\n",
    "\n",
    "            if drop_flag == False:\n",
    "                u_g_embeddings, pos_i_g_embeddings, _ = model(user_batch,\n",
    "                                                              item_batch,\n",
    "                                                              [],\n",
    "                                                              drop_flag=False)\n",
    "                rate_batch = model.rating(u_g_embeddings, pos_i_g_embeddings).detach().cpu()\n",
    "            else:\n",
    "                u_g_embeddings, pos_i_g_embeddings, _ = model(user_batch,\n",
    "                                                              item_batch,\n",
    "                                                              [],\n",
    "                                                              drop_flag=True)\n",
    "                rate_batch = model.rating(u_g_embeddings, pos_i_g_embeddings).detach().cpu()\n",
    "\n",
    "        user_batch_rating_uid = zip(rate_batch.numpy(), user_batch)\n",
    "        batch_result = pool.map(test_one_user, user_batch_rating_uid)\n",
    "        count += len(batch_result)\n",
    "\n",
    "        for re in batch_result:\n",
    "            result['precision'] += re['precision']/n_test_users\n",
    "            result['recall'] += re['recall']/n_test_users\n",
    "            result['ndcg'] += re['ndcg']/n_test_users\n",
    "            result['hit_ratio'] += re['hit_ratio']/n_test_users\n",
    "            result['auc'] += re['auc']/n_test_users\n",
    "\n",
    "\n",
    "    assert count == n_test_users\n",
    "    pool.close()\n",
    "    return result\n"
   ]
  },
  {
   "cell_type": "code",
   "execution_count": 5,
   "metadata": {},
   "outputs": [
    {
     "name": "stdout",
     "output_type": "stream",
     "text": [
      "n_users=185336, n_items=30895\n",
      "n_interactions=852546\n",
      "n_train=667210, n_test=185336, sparsity=0.00015\n"
     ]
    }
   ],
   "source": [
    "data_generator = Data(path='../Data/evdriver', batch_size=1024)\n",
    "USR_NUM, ITEM_NUM = data_generator.n_users, data_generator.n_items\n",
    "N_TRAIN, N_TEST = data_generator.n_train, data_generator.n_test\n",
    "BATCH_SIZE = args.batch_size"
   ]
  },
  {
   "cell_type": "code",
   "execution_count": 6,
   "metadata": {},
   "outputs": [
    {
     "name": "stdout",
     "output_type": "stream",
     "text": [
      "already load adj matrix (216231, 216231) 0.39972734451293945\n"
     ]
    }
   ],
   "source": [
    "plain_adj, norm_adj, mean_adj = data_generator.get_adj_mat()"
   ]
  },
  {
   "cell_type": "code",
   "execution_count": 7,
   "metadata": {},
   "outputs": [],
   "source": [
    "users_to_test = list(data_generator.test_set.keys())"
   ]
  },
  {
   "cell_type": "code",
   "execution_count": 8,
   "metadata": {},
   "outputs": [
    {
     "data": {
      "text/plain": [
       "185335"
      ]
     },
     "execution_count": 8,
     "metadata": {},
     "output_type": "execute_result"
    }
   ],
   "source": [
    "users_to_test[-1]"
   ]
  },
  {
   "cell_type": "code",
   "execution_count": 9,
   "metadata": {},
   "outputs": [],
   "source": [
    "import pickle\n",
    "torch.manual_seed(34)\n",
    "np.random.seed(34)\n",
    "\n",
    "drop_flag = False\n",
    "batch_test_flag=False\n",
    "\n",
    "args.device = torch.device('cuda:' + str(args.gpu_id))\n",
    "model = NGCF(data_generator.n_users,\n",
    "                 data_generator.n_items,\n",
    "                 norm_adj, args).to(args.device)\n",
    "with open('./dgcf.pkl', 'rb') as f:\n",
    "    model.load_state_dict(torch.load(f))"
   ]
  },
  {
   "cell_type": "code",
   "execution_count": 10,
   "metadata": {},
   "outputs": [
    {
     "name": "stdout",
     "output_type": "stream",
     "text": [
      "91\n"
     ]
    },
    {
     "name": "stderr",
     "output_type": "stream",
     "text": [
      "Process ForkPoolWorker-3:\n",
      "Process ForkPoolWorker-10:\n",
      "Process ForkPoolWorker-6:\n",
      "Process ForkPoolWorker-9:\n",
      "Process ForkPoolWorker-2:\n",
      "Process ForkPoolWorker-5:\n",
      "Process ForkPoolWorker-4:\n",
      "Process ForkPoolWorker-8:\n",
      "Process ForkPoolWorker-1:\n",
      "Process ForkPoolWorker-7:\n",
      "Traceback (most recent call last):\n",
      "Traceback (most recent call last):\n",
      "Traceback (most recent call last):\n",
      "Traceback (most recent call last):\n",
      "Traceback (most recent call last):\n",
      "Traceback (most recent call last):\n",
      "Traceback (most recent call last):\n",
      "  File \"/usr/lib/python3.8/multiprocessing/process.py\", line 315, in _bootstrap\n",
      "    self.run()\n",
      "Traceback (most recent call last):\n",
      "Traceback (most recent call last):\n",
      "  File \"/usr/lib/python3.8/multiprocessing/process.py\", line 315, in _bootstrap\n",
      "    self.run()\n",
      "  File \"/usr/lib/python3.8/multiprocessing/process.py\", line 315, in _bootstrap\n",
      "    self.run()\n",
      "  File \"/usr/lib/python3.8/multiprocessing/process.py\", line 315, in _bootstrap\n",
      "    self.run()\n",
      "  File \"/usr/lib/python3.8/multiprocessing/process.py\", line 315, in _bootstrap\n",
      "    self.run()\n",
      "  File \"/usr/lib/python3.8/multiprocessing/process.py\", line 315, in _bootstrap\n",
      "    self.run()\n",
      "  File \"/usr/lib/python3.8/multiprocessing/process.py\", line 315, in _bootstrap\n",
      "    self.run()\n",
      "  File \"/usr/lib/python3.8/multiprocessing/process.py\", line 108, in run\n",
      "    self._target(*self._args, **self._kwargs)\n",
      "  File \"/usr/lib/python3.8/multiprocessing/process.py\", line 108, in run\n",
      "    self._target(*self._args, **self._kwargs)\n",
      "  File \"/usr/lib/python3.8/multiprocessing/process.py\", line 108, in run\n",
      "    self._target(*self._args, **self._kwargs)\n",
      "  File \"/usr/lib/python3.8/multiprocessing/process.py\", line 315, in _bootstrap\n",
      "    self.run()\n",
      "  File \"/usr/lib/python3.8/multiprocessing/process.py\", line 315, in _bootstrap\n",
      "    self.run()\n",
      "  File \"/usr/lib/python3.8/multiprocessing/process.py\", line 108, in run\n",
      "    self._target(*self._args, **self._kwargs)\n",
      "  File \"/usr/lib/python3.8/multiprocessing/process.py\", line 108, in run\n",
      "    self._target(*self._args, **self._kwargs)\n",
      "  File \"/usr/lib/python3.8/multiprocessing/process.py\", line 108, in run\n",
      "    self._target(*self._args, **self._kwargs)\n",
      "  File \"/usr/lib/python3.8/multiprocessing/pool.py\", line 114, in worker\n",
      "    task = get()\n",
      "  File \"/usr/lib/python3.8/multiprocessing/pool.py\", line 114, in worker\n",
      "    task = get()\n",
      "  File \"/usr/lib/python3.8/multiprocessing/pool.py\", line 114, in worker\n",
      "    task = get()\n",
      "  File \"/usr/lib/python3.8/multiprocessing/process.py\", line 108, in run\n",
      "    self._target(*self._args, **self._kwargs)\n",
      "  File \"/usr/lib/python3.8/multiprocessing/process.py\", line 108, in run\n",
      "    self._target(*self._args, **self._kwargs)\n",
      "  File \"/usr/lib/python3.8/multiprocessing/pool.py\", line 114, in worker\n",
      "    task = get()\n",
      "  File \"/usr/lib/python3.8/multiprocessing/pool.py\", line 114, in worker\n",
      "    task = get()\n",
      "  File \"/usr/lib/python3.8/multiprocessing/process.py\", line 108, in run\n",
      "    self._target(*self._args, **self._kwargs)\n",
      "  File \"/usr/lib/python3.8/multiprocessing/queues.py\", line 355, in get\n",
      "    with self._rlock:\n",
      "  File \"/usr/lib/python3.8/multiprocessing/pool.py\", line 114, in worker\n",
      "    task = get()\n",
      "  File \"/usr/lib/python3.8/multiprocessing/queues.py\", line 355, in get\n",
      "    with self._rlock:\n",
      "  File \"/usr/lib/python3.8/multiprocessing/queues.py\", line 355, in get\n",
      "    with self._rlock:\n",
      "  File \"/usr/lib/python3.8/multiprocessing/pool.py\", line 114, in worker\n",
      "    task = get()\n",
      "  File \"/usr/lib/python3.8/multiprocessing/pool.py\", line 114, in worker\n",
      "    task = get()\n",
      "  File \"/usr/lib/python3.8/multiprocessing/queues.py\", line 355, in get\n",
      "    with self._rlock:\n",
      "  File \"/usr/lib/python3.8/multiprocessing/pool.py\", line 114, in worker\n",
      "    task = get()\n",
      "  File \"/usr/lib/python3.8/multiprocessing/synchronize.py\", line 95, in __enter__\n",
      "    return self._semlock.__enter__()\n",
      "Traceback (most recent call last):\n",
      "  File \"/usr/lib/python3.8/multiprocessing/queues.py\", line 355, in get\n",
      "    with self._rlock:\n",
      "  File \"/usr/lib/python3.8/multiprocessing/queues.py\", line 355, in get\n",
      "    with self._rlock:\n",
      "  File \"/usr/lib/python3.8/multiprocessing/synchronize.py\", line 95, in __enter__\n",
      "    return self._semlock.__enter__()\n",
      "  File \"/usr/lib/python3.8/multiprocessing/queues.py\", line 355, in get\n",
      "    with self._rlock:\n",
      "  File \"/usr/lib/python3.8/multiprocessing/synchronize.py\", line 95, in __enter__\n",
      "    return self._semlock.__enter__()\n",
      "  File \"/usr/lib/python3.8/multiprocessing/queues.py\", line 355, in get\n",
      "    with self._rlock:\n",
      "  File \"/usr/lib/python3.8/multiprocessing/synchronize.py\", line 95, in __enter__\n",
      "    return self._semlock.__enter__()\n",
      "KeyboardInterrupt\n",
      "  File \"/usr/lib/python3.8/multiprocessing/queues.py\", line 355, in get\n",
      "    with self._rlock:\n",
      "  File \"/usr/lib/python3.8/multiprocessing/process.py\", line 315, in _bootstrap\n",
      "    self.run()\n",
      "  File \"/usr/lib/python3.8/multiprocessing/synchronize.py\", line 95, in __enter__\n",
      "    return self._semlock.__enter__()\n",
      "  File \"/usr/lib/python3.8/multiprocessing/synchronize.py\", line 95, in __enter__\n",
      "    return self._semlock.__enter__()\n",
      "  File \"/usr/lib/python3.8/multiprocessing/synchronize.py\", line 95, in __enter__\n",
      "    return self._semlock.__enter__()\n",
      "KeyboardInterrupt\n",
      "  File \"/usr/lib/python3.8/multiprocessing/pool.py\", line 114, in worker\n",
      "    task = get()\n",
      "KeyboardInterrupt\n",
      "  File \"/usr/lib/python3.8/multiprocessing/synchronize.py\", line 95, in __enter__\n",
      "    return self._semlock.__enter__()\n",
      "  File \"/usr/lib/python3.8/multiprocessing/process.py\", line 108, in run\n",
      "    self._target(*self._args, **self._kwargs)\n",
      "KeyboardInterrupt\n",
      "KeyboardInterrupt\n",
      "KeyboardInterrupt\n",
      "KeyboardInterrupt\n",
      "KeyboardInterrupt\n",
      "  File \"/usr/lib/python3.8/multiprocessing/queues.py\", line 356, in get\n",
      "    res = self._reader.recv_bytes()\n",
      "  File \"/usr/lib/python3.8/multiprocessing/connection.py\", line 216, in recv_bytes\n",
      "    buf = self._recv_bytes(maxlength)\n",
      "  File \"/usr/lib/python3.8/multiprocessing/connection.py\", line 414, in _recv_bytes\n",
      "    buf = self._recv(4)\n",
      "  File \"/usr/lib/python3.8/multiprocessing/connection.py\", line 379, in _recv\n",
      "    chunk = read(handle, remaining)\n",
      "KeyboardInterrupt\n",
      "  File \"/usr/lib/python3.8/multiprocessing/synchronize.py\", line 95, in __enter__\n",
      "    return self._semlock.__enter__()\n",
      "KeyboardInterrupt\n"
     ]
    }
   ],
   "source": [
    "result = {'precision': np.zeros(len(Ks)), 'recall': np.zeros(len(Ks)), 'ndcg': np.zeros(len(Ks)),\n",
    "            'hit_ratio': np.zeros(len(Ks)), 'auc': 0.}\n",
    "\n",
    "pool = multiprocessing.Pool(cores)\n",
    "\n",
    "u_batch_size = BATCH_SIZE * 2\n",
    "i_batch_size = BATCH_SIZE\n",
    "\n",
    "test_users = users_to_test\n",
    "n_test_users = len(test_users)\n",
    "n_user_batchs = n_test_users // u_batch_size + 1\n",
    "print(n_user_batchs)\n",
    "count = 0\n",
    "\n",
    "entire_rank = torch.tensor([])"
   ]
  },
  {
   "cell_type": "code",
   "execution_count": null,
   "metadata": {},
   "outputs": [
    {
     "name": "stderr",
     "output_type": "stream",
     "text": [
      " 29%|██▊       | 26/91 [01:33<04:12,  3.89s/it]"
     ]
    }
   ],
   "source": [
    "for u_batch_id in tqdm(range(n_user_batchs)):\n",
    "    start = u_batch_id * u_batch_size\n",
    "    end = (u_batch_id + 1) * u_batch_size\n",
    "\n",
    "    user_batch = test_users[start: end]\n",
    "\n",
    "    if batch_test_flag:\n",
    "        # batch-item test\n",
    "        n_item_batchs = ITEM_NUM // i_batch_size + 1\n",
    "        rate_batch = np.zeros(shape=(len(user_batch), ITEM_NUM))\n",
    "\n",
    "        i_count = 0\n",
    "        for i_batch_id in tqdm(range(n_item_batchs)):\n",
    "            i_start = i_batch_id * i_batch_size\n",
    "            i_end = min((i_batch_id + 1) * i_batch_size, ITEM_NUM)\n",
    "\n",
    "            item_batch = range(i_start, i_end)\n",
    "\n",
    "            if drop_flag == False:\n",
    "                u_g_embeddings, pos_i_g_embeddings, _ = model(user_batch,\n",
    "                                                                item_batch,\n",
    "                                                                [],\n",
    "                                                                drop_flag=False)\n",
    "                i_rate_batch = model.rating(u_g_embeddings, pos_i_g_embeddings).detach().cpu()\n",
    "            else:\n",
    "                u_g_embeddings, pos_i_g_embeddings, _ = model(user_batch,\n",
    "                                                                item_batch,\n",
    "                                                                [],\n",
    "                                                                drop_flag=True)\n",
    "                i_rate_batch = model.rating(u_g_embeddings, pos_i_g_embeddings).detach().cpu()\n",
    "\n",
    "            rate_batch[:, i_start: i_end] = i_rate_batch\n",
    "            i_count += i_rate_batch.shape[1]\n",
    "\n",
    "        assert i_count == ITEM_NUM\n",
    "\n",
    "    else:\n",
    "        # all-item test\n",
    "        item_batch = range(ITEM_NUM)\n",
    "\n",
    "        if drop_flag == False:\n",
    "            u_g_embeddings, pos_i_g_embeddings, _ = model(user_batch,\n",
    "                                                            item_batch,\n",
    "                                                            [],\n",
    "                                                            drop_flag=False)\n",
    "            rate_batch = model.rating(u_g_embeddings, pos_i_g_embeddings).detach().cpu()\n",
    "        else:\n",
    "            u_g_embeddings, pos_i_g_embeddings, _ = model(user_batch,\n",
    "                                                            item_batch,\n",
    "                                                            [],\n",
    "                                                            drop_flag=True)\n",
    "            rate_batch = model.rating(u_g_embeddings, pos_i_g_embeddings).detach().cpu()\n",
    "\n",
    "    \n",
    "    entire_rank = torch.cat((entire_rank, rate_batch), dim=0)\n",
    "    user_batch_rating_uid = zip(rate_batch.numpy(), user_batch)\n",
    "    batch_result = pool.map(test_one_user, user_batch_rating_uid)\n",
    "    count += len(batch_result)\n",
    "\n",
    "    for re in batch_result:\n",
    "        result['precision'] += re['precision']/n_test_users\n",
    "        result['recall'] += re['recall']/n_test_users\n",
    "        result['ndcg'] += re['ndcg']/n_test_users\n",
    "        result['hit_ratio'] += re['hit_ratio']/n_test_users\n",
    "        result['auc'] += re['auc']/n_test_users\n",
    "\n",
    "\n",
    "assert count == n_test_users\n",
    "pool.close()"
   ]
  },
  {
   "cell_type": "code",
   "execution_count": 12,
   "metadata": {},
   "outputs": [
    {
     "name": "stderr",
     "output_type": "stream",
     "text": [
      "100%|██████████| 91/91 [06:00<00:00,  3.96s/it]\n"
     ]
    },
    {
     "ename": "AssertionError",
     "evalue": "",
     "output_type": "error",
     "traceback": [
      "\u001b[0;31m---------------------------------------------------------------------------\u001b[0m",
      "\u001b[0;31mAssertionError\u001b[0m                            Traceback (most recent call last)",
      "\u001b[0;32m/tmp/ipykernel_10343/3473435913.py\u001b[0m in \u001b[0;36m<cell line: 65>\u001b[0;34m()\u001b[0m\n\u001b[1;32m     63\u001b[0m         \u001b[0mresult\u001b[0m\u001b[0;34m[\u001b[0m\u001b[0;34m'auc'\u001b[0m\u001b[0;34m]\u001b[0m \u001b[0;34m+=\u001b[0m \u001b[0mre\u001b[0m\u001b[0;34m[\u001b[0m\u001b[0;34m'auc'\u001b[0m\u001b[0;34m]\u001b[0m \u001b[0;34m/\u001b[0m \u001b[0mn_test_users\u001b[0m\u001b[0;34m\u001b[0m\u001b[0;34m\u001b[0m\u001b[0m\n\u001b[1;32m     64\u001b[0m \u001b[0;34m\u001b[0m\u001b[0m\n\u001b[0;32m---> 65\u001b[0;31m \u001b[0;32massert\u001b[0m \u001b[0mcount\u001b[0m \u001b[0;34m==\u001b[0m \u001b[0mn_test_users\u001b[0m\u001b[0;34m\u001b[0m\u001b[0;34m\u001b[0m\u001b[0m\n\u001b[0m\u001b[1;32m     66\u001b[0m \u001b[0mpool\u001b[0m\u001b[0;34m.\u001b[0m\u001b[0mclose\u001b[0m\u001b[0;34m(\u001b[0m\u001b[0;34m)\u001b[0m\u001b[0;34m\u001b[0m\u001b[0;34m\u001b[0m\u001b[0m\n",
      "\u001b[0;31mAssertionError\u001b[0m: "
     ]
    }
   ],
   "source": [
    "import torch\n",
    "import os\n",
    "\n",
    "# 저장할 디렉토리 설정\n",
    "save_dir = './rank_batches'\n",
    "os.makedirs(save_dir, exist_ok=True)\n",
    "\n",
    "# 배치 처리 루프\n",
    "for u_batch_id in tqdm(range(n_user_batchs)):\n",
    "    start = u_batch_id * u_batch_size\n",
    "    end = (u_batch_id + 1) * u_batch_size\n",
    "\n",
    "    user_batch = test_users[start: end]\n",
    "\n",
    "    if batch_test_flag:\n",
    "        # 배치-아이템 테스트\n",
    "        n_item_batchs = ITEM_NUM // i_batch_size + 1\n",
    "        rate_batch = np.zeros(shape=(len(user_batch), ITEM_NUM))\n",
    "\n",
    "        i_count = 0\n",
    "        for i_batch_id in range(n_item_batchs):\n",
    "            i_start = i_batch_id * i_batch_size\n",
    "            i_end = min((i_batch_id + 1) * i_batch_size, ITEM_NUM)\n",
    "\n",
    "            item_batch = range(i_start, i_end)\n",
    "\n",
    "            if not drop_flag:\n",
    "                u_g_embeddings, pos_i_g_embeddings, _ = model(user_batch, item_batch, [], drop_flag=False)\n",
    "                i_rate_batch = model.rating(u_g_embeddings, pos_i_g_embeddings).detach().cpu()\n",
    "            else:\n",
    "                u_g_embeddings, pos_i_g_embeddings, _ = model(user_batch, item_batch, [], drop_flag=True)\n",
    "                i_rate_batch = model.rating(u_g_embeddings, pos_i_g_embeddings).detach().cpu()\n",
    "\n",
    "            rate_batch[:, i_start: i_end] = i_rate_batch\n",
    "            i_count += i_rate_batch.shape[1]\n",
    "\n",
    "        assert i_count == ITEM_NUM\n",
    "\n",
    "    else:\n",
    "        # 모든 아이템 테스트\n",
    "        item_batch = range(ITEM_NUM)\n",
    "\n",
    "        if not drop_flag:\n",
    "            u_g_embeddings, pos_i_g_embeddings, _ = model(user_batch, item_batch, [], drop_flag=False)\n",
    "            rate_batch = model.rating(u_g_embeddings, pos_i_g_embeddings).detach().cpu()\n",
    "        else:\n",
    "            u_g_embeddings, pos_i_g_embeddings, _ = model(user_batch, item_batch, [], drop_flag=True)\n",
    "            rate_batch = model.rating(u_g_embeddings, pos_i_g_embeddings).detach().cpu()\n",
    "\n",
    "    # 배치 결과 저장\n",
    "    batch_file = os.path.join(save_dir, f'batch_{u_batch_id}.pt')\n",
    "    torch.save(rate_batch, batch_file)\n",
    "\n",
    "    user_batch_rating_uid = zip(rate_batch.numpy(), user_batch)\n",
    "    batch_result = pool.map(test_one_user, user_batch_rating_uid)\n",
    "    count += len(batch_result)\n",
    "\n",
    "    for re in batch_result:\n",
    "        result['precision'] += re['precision'] / n_test_users\n",
    "        result['recall'] += re['recall'] / n_test_users\n",
    "        result['ndcg'] += re['ndcg'] / n_test_users\n",
    "        result['hit_ratio'] += re['hit_ratio'] / n_test_users\n",
    "        result['auc'] += re['auc'] / n_test_users\n",
    "\n",
    "assert count == n_test_users\n",
    "pool.close()\n"
   ]
  },
  {
   "cell_type": "code",
   "execution_count": 13,
   "metadata": {},
   "outputs": [
    {
     "data": {
      "text/plain": [
       "199672"
      ]
     },
     "execution_count": 13,
     "metadata": {},
     "output_type": "execute_result"
    }
   ],
   "source": [
    "count"
   ]
  },
  {
   "cell_type": "code",
   "execution_count": 14,
   "metadata": {},
   "outputs": [
    {
     "data": {
      "text/plain": [
       "185336"
      ]
     },
     "execution_count": 14,
     "metadata": {},
     "output_type": "execute_result"
    }
   ],
   "source": [
    "n_test_users"
   ]
  },
  {
   "cell_type": "code",
   "execution_count": 23,
   "metadata": {},
   "outputs": [
    {
     "data": {
      "text/plain": [
       "tensor([[-0.3784,  0.3453,  0.2978,  ...,  0.6219, -0.0649,  0.4069],\n",
       "        [-0.5842,  0.8983, -2.1777,  ..., -1.5230, -0.8950, -1.1614],\n",
       "        [-0.0282, -0.2790, -1.0631,  ...,  0.5330,  0.0900, -1.1493],\n",
       "        ...,\n",
       "        [-0.2404, -1.2683, -1.8942,  ..., -0.7535, -0.7272, -2.0102],\n",
       "        [ 0.9465, -1.4659, -0.5820,  ..., -0.3537, -0.7689, -1.7913],\n",
       "        [ 0.1829,  0.3101, -1.2820,  ...,  0.2224,  0.0694,  0.0291]])"
      ]
     },
     "execution_count": 23,
     "metadata": {},
     "output_type": "execute_result"
    }
   ],
   "source": [
    "batch_file = os.path.join(save_dir, f'batch_0.pt')\n",
    "rate_batch = torch.load(batch_file)\n",
    "rate_batch"
   ]
  },
  {
   "cell_type": "code",
   "execution_count": 24,
   "metadata": {},
   "outputs": [
    {
     "data": {
      "text/plain": [
       "2048"
      ]
     },
     "execution_count": 24,
     "metadata": {},
     "output_type": "execute_result"
    }
   ],
   "source": [
    "len(rate_batch)"
   ]
  },
  {
   "cell_type": "code",
   "execution_count": 33,
   "metadata": {},
   "outputs": [
    {
     "name": "stderr",
     "output_type": "stream",
     "text": [
      "100%|██████████| 91/91 [06:30<00:00,  4.29s/it]\n"
     ]
    },
    {
     "ename": "AssertionError",
     "evalue": "",
     "output_type": "error",
     "traceback": [
      "\u001b[0;31m---------------------------------------------------------------------------\u001b[0m",
      "\u001b[0;31mAssertionError\u001b[0m                            Traceback (most recent call last)",
      "\u001b[0;32m/tmp/ipykernel_10343/864333358.py\u001b[0m in \u001b[0;36m<cell line: 66>\u001b[0;34m()\u001b[0m\n\u001b[1;32m     64\u001b[0m         \u001b[0mresult\u001b[0m\u001b[0;34m[\u001b[0m\u001b[0;34m'auc'\u001b[0m\u001b[0;34m]\u001b[0m \u001b[0;34m+=\u001b[0m \u001b[0mre\u001b[0m\u001b[0;34m[\u001b[0m\u001b[0;34m'auc'\u001b[0m\u001b[0;34m]\u001b[0m \u001b[0;34m/\u001b[0m \u001b[0mn_test_users\u001b[0m\u001b[0;34m\u001b[0m\u001b[0;34m\u001b[0m\u001b[0m\n\u001b[1;32m     65\u001b[0m \u001b[0;34m\u001b[0m\u001b[0m\n\u001b[0;32m---> 66\u001b[0;31m \u001b[0;32massert\u001b[0m \u001b[0mcount\u001b[0m \u001b[0;34m==\u001b[0m \u001b[0mn_test_users\u001b[0m\u001b[0;34m\u001b[0m\u001b[0;34m\u001b[0m\u001b[0m\n\u001b[0m\u001b[1;32m     67\u001b[0m \u001b[0mpool\u001b[0m\u001b[0;34m.\u001b[0m\u001b[0mclose\u001b[0m\u001b[0;34m(\u001b[0m\u001b[0;34m)\u001b[0m\u001b[0;34m\u001b[0m\u001b[0;34m\u001b[0m\u001b[0m\n",
      "\u001b[0;31mAssertionError\u001b[0m: "
     ]
    }
   ],
   "source": [
    "import torch\n",
    "import numpy as np\n",
    "import os\n",
    "\n",
    "# 저장할 디렉토리 설정\n",
    "save_dir = './rank_batches2'\n",
    "os.makedirs(save_dir, exist_ok=True)\n",
    "\n",
    "# 배치 처리 루프\n",
    "for u_batch_id in tqdm(range(n_user_batchs)):\n",
    "    start = u_batch_id * u_batch_size\n",
    "    end = (u_batch_id + 1) * u_batch_size\n",
    "\n",
    "    user_batch = test_users[start: end]\n",
    "\n",
    "    if batch_test_flag:\n",
    "        # 배치-아이템 테스트\n",
    "        n_item_batchs = ITEM_NUM // i_batch_size + 1\n",
    "        rate_batch = np.zeros(shape=(len(user_batch), ITEM_NUM))\n",
    "\n",
    "        i_count = 0\n",
    "        for i_batch_id in range(n_item_batchs):\n",
    "            i_start = i_batch_id * i_batch_size\n",
    "            i_end = min((i_batch_id + 1) * i_batch_size, ITEM_NUM)\n",
    "\n",
    "            item_batch = range(i_start, i_end)\n",
    "\n",
    "            if not drop_flag:\n",
    "                u_g_embeddings, pos_i_g_embeddings, _ = model(user_batch, item_batch, [], drop_flag=False)\n",
    "                i_rate_batch = model.rating(u_g_embeddings, pos_i_g_embeddings).detach().cpu().numpy()\n",
    "            else:\n",
    "                u_g_embeddings, pos_i_g_embeddings, _ = model(user_batch, item_batch, [], drop_flag=True)\n",
    "                i_rate_batch = model.rating(u_g_embeddings, pos_i_g_embeddings).detach().cpu().numpy()\n",
    "\n",
    "            rate_batch[:, i_start: i_end] = i_rate_batch\n",
    "            i_count += i_rate_batch.shape[1]\n",
    "\n",
    "        assert i_count == ITEM_NUM\n",
    "\n",
    "    else:\n",
    "        # 모든 아이템 테스트\n",
    "        item_batch = range(ITEM_NUM)\n",
    "\n",
    "        if not drop_flag:\n",
    "            u_g_embeddings, pos_i_g_embeddings, _ = model(user_batch, item_batch, [], drop_flag=False)\n",
    "            rate_batch = model.rating(u_g_embeddings, pos_i_g_embeddings).detach().cpu().numpy()\n",
    "        else:\n",
    "            u_g_embeddings, pos_i_g_embeddings, _ = model(user_batch, item_batch, [], drop_flag=True)\n",
    "            rate_batch = model.rating(u_g_embeddings, pos_i_g_embeddings).detach().cpu().numpy()\n",
    "\n",
    "    # 배치 결과 저장\n",
    "    batch_file = os.path.join(save_dir, f'batch_{u_batch_id}.npy')\n",
    "    np.save(batch_file, rate_batch)\n",
    "\n",
    "    user_batch_rating_uid = zip(rate_batch, user_batch)\n",
    "    batch_result = pool.map(test_one_user, user_batch_rating_uid)\n",
    "    count += len(batch_result)\n",
    "\n",
    "    for re in batch_result:\n",
    "        result['precision'] += re['precision'] / n_test_users\n",
    "        result['recall'] += re['recall'] / n_test_users\n",
    "        result['ndcg'] += re['ndcg'] / n_test_users\n",
    "        result['hit_ratio'] += re['hit_ratio'] / n_test_users\n",
    "        result['auc'] += re['auc'] / n_test_users\n",
    "\n",
    "assert count == n_test_users\n",
    "pool.close()"
   ]
  },
  {
   "cell_type": "code",
   "execution_count": 21,
   "metadata": {},
   "outputs": [],
   "source": [
    "import pickle, pickle5\n",
    "import pandas as pd\n",
    "\n",
    "with open('../Data/evdriver/preprocessed/meta.pickle', 'rb') as f:\n",
    "    meta = pickle.load(f)\n",
    "\n",
    "with open('../Data/evdriver/preprocessed/drivers.pickle', 'rb') as f:\n",
    "    train_dv = pickle.load(f)\n",
    "\n",
    "with open('../Data/evdriver/preprocessed/testset_df.pickle', 'rb') as f:\n",
    "    test_dv = pickle.load(f)\n",
    "\n",
    "test_dv = test_dv.sort_values(by=['Driver']).reset_index(drop=True)\n"
   ]
  },
  {
   "cell_type": "code",
   "execution_count": 22,
   "metadata": {},
   "outputs": [],
   "source": [
    "def evaluation(result, driver_id, test_dv, meta, criteria):\n",
    "    location = test_dv.loc[test_dv['Driver'] == driver_id][criteria].values[0]\n",
    "    teststat = test_dv.loc[test_dv['Driver'] == driver_id]['statid'].values[0]\n",
    "    speed = test_dv.loc[test_dv['Driver'] == driver_id]['speed'].values\n",
    "    if len(speed) == 1:\n",
    "        flag = True\n",
    "    else:\n",
    "        flag = False\n",
    "\n",
    "    driver_pref = result[driver_id]\n",
    "    #[1011, 14000, 13000] -> statid의 list\n",
    "    driver_rank = driver_pref.argsort()[::-1].astype(str)\n",
    "    #하나의 Cluster로 위치 필터링\n",
    "    driver_meta = meta[meta[criteria] == location]\n",
    "    recommended_df = pd.DataFrame([])\n",
    "\n",
    "    for i in range(len(driver_rank)):\n",
    "        if len(recommended_df) > 19:\n",
    "            false_count = len(recommended_df) - recommended_df.duplicated('statid').sum()\n",
    "            if false_count == 20:\n",
    "                break\n",
    "        #추천된 statid가 Cluster에 속하면,\n",
    "        if driver_rank[i] in driver_meta['statid'].values:\n",
    "            stat_driver = driver_meta.loc[driver_meta['statid'] == driver_rank[i]]\n",
    "            #추천된 statid의 speed가 testset의 speed와 같으면,\n",
    "            if flag:\n",
    "                if stat_driver['speed'].values[0] == speed:\n",
    "                    recommended_df = pd.concat([recommended_df, stat_driver])\n",
    "            else:\n",
    "                recommended_df = pd.concat([recommended_df, stat_driver])\n",
    "                \n",
    "    if flag:\n",
    "        recommended_df = recommended_df.loc[recommended_df['speed'] == speed[0]].reset_index(drop=True)\n",
    "    else:\n",
    "        recommended_df = recommended_df.drop_duplicates('statid').reset_index(drop=True)\n",
    "\n",
    "    try:\n",
    "        rank = recommended_df.loc[recommended_df['statid'] == teststat].index[0] \n",
    "        rank = rank + 1\n",
    "    except:\n",
    "        rank = 0\n",
    "    return recommended_df, rank, len(recommended_df)\n",
    "\n",
    "def get_coordinates(driver_id, meta, test_dv, candidate):\n",
    "    gt_zscode = test_dv.loc[test_dv['Driver'] == driver_id]['zscode'].values[0]\n",
    "    gt_cluster = test_dv.loc[test_dv['Driver'] == driver_id]['Cluster'].values[0]\n",
    "    gt_speeds = test_dv.loc[test_dv['Driver'] == driver_id]['speed']\n",
    "    if len(gt_speeds.values) == 1:\n",
    "        gt_speed = gt_speeds.values[0]\n",
    "    else:\n",
    "        gt_speed = gt_speeds.value_counts().keys()[0]\n",
    "    \n",
    "    meta_zscode = meta[meta['zscode'] == gt_zscode]\n",
    "    meta_zscode = meta_zscode.loc[meta_zscode['speed'] == gt_speed]\n",
    "    meta_cluster = meta.loc[meta['Cluster'] == gt_cluster]\n",
    "    meta_cluster = meta_cluster.loc[meta_cluster['speed'] == gt_speed]\n",
    "\n",
    "    zscode_cor = meta_zscode[['lat','lng']].values\n",
    "    cluster_cor = meta_cluster[['lat','lng']].values\n",
    "    candidate_cor = candidate[['lat','lng']].values\n",
    "    ground_truth_cor = test_dv.loc[test_dv['Driver'] == driver_id][['lat','lng']].values\n",
    "    \n",
    "\n",
    "    return zscode_cor, cluster_cor, candidate_cor, ground_truth_cor\n",
    "\n",
    "def show_plot(zscode_cor, cluster_cor, candidate_cor, gt_cor, driver_id):\n",
    "    plt.scatter(zscode_cor[:, 1], zscode_cor[:, 0], marker='o', color='blue', label='zscode', s=5)\n",
    "    plt.scatter(cluster_cor[:, 1], cluster_cor[:, 0], marker='o', color='red', label='cluster', s=5)\n",
    "    plt.scatter(candidate_cor[:, 1], candidate_cor[:, 0], marker='o', color='green', label='candidate', s=5)\n",
    "    plt.scatter(gt_cor[:, 1], gt_cor[:, 0], marker='x', color='black', label='Ground Truth', s=30)\n",
    "    plt.xlabel('Longitude')\n",
    "    plt.ylabel('Latitude')\n",
    "    plt.title(f'Scatter Plot of Coordinates for driver: {driver_id}')\n",
    "    plt.legend()\n",
    "    plt.show()\n",
    "\n",
    "def visulization(result, driver_id, test_dv, meta, criteria):\n",
    "    recommended_df, rank, length = evaluation(result, driver_id, test_dv, meta, criteria)\n",
    "    zscode_cor, cluster_cor, candidate_cor, gt_cor = get_coordinates(driver_id, meta, test_dv, recommended_df)\n",
    "    show_plot(zscode_cor, cluster_cor, candidate_cor, gt_cor, driver_id)\n",
    "    return "
   ]
  },
  {
   "cell_type": "code",
   "execution_count": 34,
   "metadata": {},
   "outputs": [
    {
     "data": {
      "text/plain": [
       "array([[-0.70081496,  0.18153189,  0.31187984, ...,  0.4729136 ,\n",
       "        -0.05474171,  0.7154179 ],\n",
       "       [-0.5952144 ,  0.9281276 , -2.0627391 , ..., -1.5854123 ,\n",
       "        -0.8868639 , -1.2506481 ],\n",
       "       [ 0.17927273,  0.08900154, -1.1095641 , ...,  0.46728536,\n",
       "         0.02079   , -1.0934571 ],\n",
       "       ...,\n",
       "       [-0.15912785, -1.3024961 , -1.721754  , ..., -0.7657489 ,\n",
       "        -0.74881816, -1.9240354 ],\n",
       "       [ 0.959815  , -1.4766943 , -0.42791018, ..., -0.52133274,\n",
       "        -0.7622153 , -1.4521686 ],\n",
       "       [-0.01630066,  0.30078766, -1.0833848 , ..., -0.16655296,\n",
       "         0.17395033,  0.25767943]], dtype=float32)"
      ]
     },
     "execution_count": 34,
     "metadata": {},
     "output_type": "execute_result"
    }
   ],
   "source": [
    "batch_file = os.path.join(save_dir, f'batch_0.npy')\n",
    "rate_batch = np.load(batch_file)\n",
    "rate_batch"
   ]
  },
  {
   "cell_type": "code",
   "execution_count": 36,
   "metadata": {},
   "outputs": [
    {
     "data": {
      "text/plain": [
       "array([-0.70081496,  0.18153189,  0.31187984, ...,  0.4729136 ,\n",
       "       -0.05474171,  0.7154179 ], dtype=float32)"
      ]
     },
     "execution_count": 36,
     "metadata": {},
     "output_type": "execute_result"
    }
   ],
   "source": [
    "rate_batch[0]"
   ]
  },
  {
   "cell_type": "code",
   "execution_count": 22,
   "metadata": {},
   "outputs": [
    {
     "data": {
      "image/png": "[encoded data removed]",
      "text/plain": [
       "<Figure size 640x480 with 1 Axes>"
      ]
     },
     "metadata": {},
     "output_type": "display_data"
    }
   ],
   "source": [
    "visulization(rate_batch, 111, test_dv, meta, 'Cluster')"
   ]
  },
  {
   "cell_type": "code",
   "execution_count": 42,
   "metadata": {},
   "outputs": [
    {
     "data": {
      "text/plain": [
       "0         41500\n",
       "1         11260\n",
       "2         11500\n",
       "3         41110\n",
       "4         11710\n",
       "          ...  \n",
       "201275    28237\n",
       "201276    28237\n",
       "201277    41590\n",
       "201278    11410\n",
       "201279    11410\n",
       "Name: zscode, Length: 201280, dtype: object"
      ]
     },
     "execution_count": 42,
     "metadata": {},
     "output_type": "execute_result"
    }
   ],
   "source": [
    "test_dv['zscode']"
   ]
  },
  {
   "cell_type": "code",
   "execution_count": 31,
   "metadata": {},
   "outputs": [
    {
     "data": {
      "text/plain": [
       "array(['5', '4', '3', '2', '1', '0'], dtype='<U21')"
      ]
     },
     "execution_count": 31,
     "metadata": {},
     "output_type": "execute_result"
    }
   ],
   "source": [
    "k = [1,2,3,4,5,6]\n",
    "k1 = np.array(k)\n",
    "k1.argsort()[::-1].astype(str)"
   ]
  },
  {
   "cell_type": "code",
   "execution_count": null,
   "metadata": {},
   "outputs": [],
   "source": [
    "# 저장된 배치 배열을 결합하는 함수\n",
    "def load_and_concatenate_batches(save_dir, n_batches):\n",
    "    batches = []\n",
    "    for u_batch_id in range(n_batches):\n",
    "        batch_file = os.path.join(save_dir, f'batch_{u_batch_id}.npy')\n",
    "        rate_batch = np.load(batch_file)\n",
    "        batches.append(rate_batch)\n",
    "    entire_rank = np.concatenate(batches, axis=0)\n",
    "    return entire_rank\n",
    "\n",
    "# 전체 배치 개수 계산\n",
    "n_batches = n_user_batchs\n",
    "\n",
    "# 저장된 배치 배열을 읽어서 결합\n",
    "entire_rank = load_and_concatenate_batches(save_dir, n_batches)"
   ]
  },
  {
   "cell_type": "code",
   "execution_count": 26,
   "metadata": {},
   "outputs": [
    {
     "data": {
      "text/plain": [
       "201280"
      ]
     },
     "execution_count": 26,
     "metadata": {},
     "output_type": "execute_result"
    }
   ],
   "source": [
    "len(test_dv)"
   ]
  },
  {
   "cell_type": "code",
   "execution_count": 31,
   "metadata": {},
   "outputs": [],
   "source": [
    "busiid = test_dv.loc[test_dv['Driver'] == 0]['busiid']"
   ]
  },
  {
   "cell_type": "code",
   "execution_count": 32,
   "metadata": {},
   "outputs": [
    {
     "data": {
      "text/plain": [
       "0    63\n",
       "Name: busiid, dtype: int64"
      ]
     },
     "execution_count": 32,
     "metadata": {},
     "output_type": "execute_result"
    }
   ],
   "source": [
    "busiid"
   ]
  },
  {
   "cell_type": "code",
   "execution_count": 35,
   "metadata": {},
   "outputs": [
    {
     "data": {
      "text/plain": [
       "16295"
      ]
     },
     "execution_count": 35,
     "metadata": {},
     "output_type": "execute_result"
    }
   ],
   "source": [
    "rate_batch[0].argmax()"
   ]
  },
  {
   "cell_type": "code",
   "execution_count": 44,
   "metadata": {},
   "outputs": [
    {
     "data": {
      "text/plain": [
       "array([1, 1, 1, 1, 1])"
      ]
     },
     "execution_count": 44,
     "metadata": {},
     "output_type": "execute_result"
    }
   ],
   "source": [
    "k = [5,5,5,5,5]\n",
    "t = np.array(k)//5\n",
    "t"
   ]
  },
  {
   "cell_type": "code",
   "execution_count": 45,
   "metadata": {},
   "outputs": [],
   "source": [
    "recalls = np.zeros(5)"
   ]
  },
  {
   "cell_type": "code",
   "execution_count": 47,
   "metadata": {},
   "outputs": [
    {
     "data": {
      "text/plain": [
       "array([1., 1., 1., 1., 1.])"
      ]
     },
     "execution_count": 47,
     "metadata": {},
     "output_type": "execute_result"
    }
   ],
   "source": [
    "recalls + t"
   ]
  },
  {
   "cell_type": "code",
   "execution_count": 51,
   "metadata": {},
   "outputs": [
    {
     "name": "stdout",
     "output_type": "stream",
     "text": [
      "[5 4 1 3 2]\n",
      "원래 배열: [3 1 2 4 5]\n",
      "내림차순 정렬된 인덱스: [4 3 0 2 1]\n",
      "내림차순 정렬된 배열: [5 4 3 2 1]\n"
     ]
    }
   ],
   "source": [
    "import numpy as np\n",
    "\n",
    "# 예제 배열\n",
    "arr = np.array([3, 1, 2, 4, 5])\n",
    "\n",
    "# 배열을 내림차순으로 정렬했을 때의 인덱스\n",
    "sorted_indices_desc = np.argsort(arr)[::-1]\n",
    "print(sorted_indices_desc + 1)\n",
    "# 원래 배열을 내림차순으로 정렬된 상태로 만들기\n",
    "sorted_arr_desc = arr[sorted_indices_desc]\n",
    "\n",
    "print(\"원래 배열:\", arr)\n",
    "print(\"내림차순 정렬된 인덱스:\", sorted_indices_desc)\n",
    "print(\"내림차순 정렬된 배열:\", sorted_arr_desc)\n"
   ]
  },
  {
   "cell_type": "code",
   "execution_count": 75,
   "metadata": {},
   "outputs": [
    {
     "data": {
      "text/plain": [
       "(array([5310]),)"
      ]
     },
     "execution_count": 75,
     "metadata": {},
     "output_type": "execute_result"
    }
   ],
   "source": [
    "sorted_indices_desc = np.argsort(rate_batch[44])[::-1] + 1\n",
    "indices = np.where(sorted_indices_desc == 12085)\n",
    "indices"
   ]
  },
  {
   "cell_type": "code",
   "execution_count": 69,
   "metadata": {},
   "outputs": [
    {
     "data": {
      "text/plain": [
       "30895"
      ]
     },
     "execution_count": 69,
     "metadata": {},
     "output_type": "execute_result"
    }
   ],
   "source": [
    "len(sorted_indices_desc)"
   ]
  },
  {
   "cell_type": "code",
   "execution_count": null,
   "metadata": {},
   "outputs": [],
   "source": []
  }
 ],
 "metadata": {
  "kernelspec": {
   "display_name": "Python 3 (ipykernel)",
   "language": "python",
   "name": "python3"
  },
  "language_info": {
   "codemirror_mode": {
    "name": "ipython",
    "version": 3
   },
   "file_extension": ".py",
   "mimetype": "text/x-python",
   "name": "python",
   "nbconvert_exporter": "python",
   "pygments_lexer": "ipython3",
   "version": "3.8.10"
  }
 },
 "nbformat": 4,
 "nbformat_minor": 4
}
