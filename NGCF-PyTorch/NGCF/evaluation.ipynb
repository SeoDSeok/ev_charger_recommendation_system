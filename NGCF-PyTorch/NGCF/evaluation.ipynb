{
 "cells": [
  {
   "cell_type": "code",
   "execution_count": 1,
   "metadata": {},
   "outputs": [],
   "source": [
    "import pickle, pickle5\n",
    "import pandas as pd\n",
    "import numpy as np\n",
    "from tqdm import tqdm\n",
    "import os"
   ]
  },
  {
   "cell_type": "code",
   "execution_count": 2,
   "metadata": {},
   "outputs": [],
   "source": [
    "with open('../Data/evdriver/preprocessed/meta.pickle', 'rb') as f:\n",
    "    meta = pickle.load(f)\n",
    "with open('../Data/evdriver/preprocessed/drivers.pickle', 'rb') as f:\n",
    "    train_dv = pickle.load(f)\n",
    "with open('../Data/evdriver/preprocessed/testset_df.pickle', 'rb') as f:\n",
    "    test_dv = pickle.load(f)"
   ]
  },
  {
   "cell_type": "code",
   "execution_count": 3,
   "metadata": {},
   "outputs": [],
   "source": [
    "test_dv = test_dv.sort_values(by=['Driver']).reset_index(drop=True)"
   ]
  },
  {
   "cell_type": "code",
   "execution_count": 5,
   "metadata": {},
   "outputs": [
    {
     "data": {
      "text/plain": [
       "Index(['statnm', 'statid', 'chgerid', 'chgertype', 'addr', 'location', 'lat',\n",
       "       'lng', 'busiid', 'bnm', 'businm', 'busicall', 'powertype', 'output',\n",
       "       'method', 'zcode', 'zscode', 'kind', 'kinddetail', 'parkingfree',\n",
       "       'note', 'trafficyn', 'speed', 'Count', 'Cluster'],\n",
       "      dtype='object')"
      ]
     },
     "execution_count": 5,
     "metadata": {},
     "output_type": "execute_result"
    }
   ],
   "source": [
    "meta.columns"
   ]
  },
  {
   "cell_type": "code",
   "execution_count": 6,
   "metadata": {},
   "outputs": [
    {
     "data": {
      "text/html": [
       "<div>\n",
       "<style scoped>\n",
       "    .dataframe tbody tr th:only-of-type {\n",
       "        vertical-align: middle;\n",
       "    }\n",
       "\n",
       "    .dataframe tbody tr th {\n",
       "        vertical-align: top;\n",
       "    }\n",
       "\n",
       "    .dataframe thead th {\n",
       "        text-align: right;\n",
       "    }\n",
       "</style>\n",
       "<table border=\"1\" class=\"dataframe\">\n",
       "  <thead>\n",
       "    <tr style=\"text-align: right;\">\n",
       "      <th></th>\n",
       "      <th>statnm</th>\n",
       "      <th>statid</th>\n",
       "      <th>chgerid</th>\n",
       "      <th>chgertype</th>\n",
       "      <th>addr</th>\n",
       "      <th>location</th>\n",
       "      <th>lat</th>\n",
       "      <th>lng</th>\n",
       "      <th>busiid</th>\n",
       "      <th>bnm</th>\n",
       "      <th>...</th>\n",
       "      <th>zcode</th>\n",
       "      <th>zscode</th>\n",
       "      <th>kind</th>\n",
       "      <th>kinddetail</th>\n",
       "      <th>parkingfree</th>\n",
       "      <th>note</th>\n",
       "      <th>trafficyn</th>\n",
       "      <th>speed</th>\n",
       "      <th>Count</th>\n",
       "      <th>Cluster</th>\n",
       "    </tr>\n",
       "  </thead>\n",
       "  <tbody>\n",
       "    <tr>\n",
       "      <th>0</th>\n",
       "      <td>암사1동 공영주차장</td>\n",
       "      <td>0</td>\n",
       "      <td>01</td>\n",
       "      <td>6</td>\n",
       "      <td>서울특별시 강동구 고덕로28길 36</td>\n",
       "      <td>null</td>\n",
       "      <td>37.552909</td>\n",
       "      <td>127.137255</td>\n",
       "      <td>63</td>\n",
       "      <td>환경부</td>\n",
       "      <td>...</td>\n",
       "      <td>11</td>\n",
       "      <td>11740</td>\n",
       "      <td>B0</td>\n",
       "      <td>B001</td>\n",
       "      <td>N</td>\n",
       "      <td>None</td>\n",
       "      <td>N</td>\n",
       "      <td>1</td>\n",
       "      <td>1</td>\n",
       "      <td>349</td>\n",
       "    </tr>\n",
       "    <tr>\n",
       "      <th>1</th>\n",
       "      <td>천호유수지 공영주차장</td>\n",
       "      <td>1</td>\n",
       "      <td>01</td>\n",
       "      <td>6</td>\n",
       "      <td>서울특별시 강동구 선사로 70</td>\n",
       "      <td>null</td>\n",
       "      <td>37.544812</td>\n",
       "      <td>127.121840</td>\n",
       "      <td>63</td>\n",
       "      <td>환경부</td>\n",
       "      <td>...</td>\n",
       "      <td>11</td>\n",
       "      <td>11740</td>\n",
       "      <td>B0</td>\n",
       "      <td>B001</td>\n",
       "      <td>N</td>\n",
       "      <td>None</td>\n",
       "      <td>N</td>\n",
       "      <td>1</td>\n",
       "      <td>1</td>\n",
       "      <td>347</td>\n",
       "    </tr>\n",
       "    <tr>\n",
       "      <th>2</th>\n",
       "      <td>천호3동 제1공영주차장</td>\n",
       "      <td>2</td>\n",
       "      <td>01</td>\n",
       "      <td>6</td>\n",
       "      <td>서울특별시 강동구 진황도로29길 34</td>\n",
       "      <td>null</td>\n",
       "      <td>37.538795</td>\n",
       "      <td>127.133399</td>\n",
       "      <td>63</td>\n",
       "      <td>환경부</td>\n",
       "      <td>...</td>\n",
       "      <td>11</td>\n",
       "      <td>11740</td>\n",
       "      <td>B0</td>\n",
       "      <td>B001</td>\n",
       "      <td>N</td>\n",
       "      <td>None</td>\n",
       "      <td>N</td>\n",
       "      <td>1</td>\n",
       "      <td>1</td>\n",
       "      <td>347</td>\n",
       "    </tr>\n",
       "    <tr>\n",
       "      <th>3</th>\n",
       "      <td>가로공원로 지하공영주차장</td>\n",
       "      <td>3</td>\n",
       "      <td>01</td>\n",
       "      <td>6</td>\n",
       "      <td>서울특별시 강서구 가로공원로 189</td>\n",
       "      <td>null</td>\n",
       "      <td>37.537263</td>\n",
       "      <td>126.838379</td>\n",
       "      <td>63</td>\n",
       "      <td>환경부</td>\n",
       "      <td>...</td>\n",
       "      <td>11</td>\n",
       "      <td>11500</td>\n",
       "      <td>B0</td>\n",
       "      <td>B001</td>\n",
       "      <td>N</td>\n",
       "      <td>None</td>\n",
       "      <td>N</td>\n",
       "      <td>1</td>\n",
       "      <td>1</td>\n",
       "      <td>4</td>\n",
       "    </tr>\n",
       "    <tr>\n",
       "      <th>4</th>\n",
       "      <td>곰달래문화복지센터 공영주차장</td>\n",
       "      <td>4</td>\n",
       "      <td>01</td>\n",
       "      <td>6</td>\n",
       "      <td>서울특별시 강서구 강서로5길 50</td>\n",
       "      <td>null</td>\n",
       "      <td>37.528956</td>\n",
       "      <td>126.849089</td>\n",
       "      <td>63</td>\n",
       "      <td>환경부</td>\n",
       "      <td>...</td>\n",
       "      <td>11</td>\n",
       "      <td>11500</td>\n",
       "      <td>B0</td>\n",
       "      <td>B001</td>\n",
       "      <td>N</td>\n",
       "      <td>None</td>\n",
       "      <td>N</td>\n",
       "      <td>1</td>\n",
       "      <td>1</td>\n",
       "      <td>4</td>\n",
       "    </tr>\n",
       "    <tr>\n",
       "      <th>...</th>\n",
       "      <td>...</td>\n",
       "      <td>...</td>\n",
       "      <td>...</td>\n",
       "      <td>...</td>\n",
       "      <td>...</td>\n",
       "      <td>...</td>\n",
       "      <td>...</td>\n",
       "      <td>...</td>\n",
       "      <td>...</td>\n",
       "      <td>...</td>\n",
       "      <td>...</td>\n",
       "      <td>...</td>\n",
       "      <td>...</td>\n",
       "      <td>...</td>\n",
       "      <td>...</td>\n",
       "      <td>...</td>\n",
       "      <td>...</td>\n",
       "      <td>...</td>\n",
       "      <td>...</td>\n",
       "      <td>...</td>\n",
       "      <td>...</td>\n",
       "    </tr>\n",
       "    <tr>\n",
       "      <th>32052</th>\n",
       "      <td>춘천우체국</td>\n",
       "      <td>30891</td>\n",
       "      <td>01</td>\n",
       "      <td>2</td>\n",
       "      <td>강원특별자치도 춘천시 방송길 108</td>\n",
       "      <td>null</td>\n",
       "      <td>37.867039</td>\n",
       "      <td>127.720537</td>\n",
       "      <td>21</td>\n",
       "      <td>이지차저</td>\n",
       "      <td>...</td>\n",
       "      <td>51</td>\n",
       "      <td>51110</td>\n",
       "      <td>A0</td>\n",
       "      <td>A003</td>\n",
       "      <td>N</td>\n",
       "      <td>관리 시설에 따른 이용 제한이 있을 수 있음</td>\n",
       "      <td>N</td>\n",
       "      <td>0</td>\n",
       "      <td>1</td>\n",
       "      <td>462</td>\n",
       "    </tr>\n",
       "    <tr>\n",
       "      <th>32053</th>\n",
       "      <td>시흥시청</td>\n",
       "      <td>30892</td>\n",
       "      <td>01</td>\n",
       "      <td>4</td>\n",
       "      <td>경기도 시흥시 시청로 20</td>\n",
       "      <td>지상1층 주차장</td>\n",
       "      <td>37.379704</td>\n",
       "      <td>126.801784</td>\n",
       "      <td>16</td>\n",
       "      <td>채비</td>\n",
       "      <td>...</td>\n",
       "      <td>41</td>\n",
       "      <td>41390</td>\n",
       "      <td>A0</td>\n",
       "      <td>A001</td>\n",
       "      <td>N</td>\n",
       "      <td>None</td>\n",
       "      <td>N</td>\n",
       "      <td>1</td>\n",
       "      <td>6</td>\n",
       "      <td>42</td>\n",
       "    </tr>\n",
       "    <tr>\n",
       "      <th>32054</th>\n",
       "      <td>군포동아아파트</td>\n",
       "      <td>30893</td>\n",
       "      <td>01</td>\n",
       "      <td>2</td>\n",
       "      <td>경기도 군포시 군포로490번길 22</td>\n",
       "      <td>지상1층 주차장</td>\n",
       "      <td>37.350012</td>\n",
       "      <td>126.946231</td>\n",
       "      <td>16</td>\n",
       "      <td>채비</td>\n",
       "      <td>...</td>\n",
       "      <td>41</td>\n",
       "      <td>41410</td>\n",
       "      <td>H0</td>\n",
       "      <td>H001</td>\n",
       "      <td>Y</td>\n",
       "      <td>None</td>\n",
       "      <td>N</td>\n",
       "      <td>0</td>\n",
       "      <td>7</td>\n",
       "      <td>66</td>\n",
       "    </tr>\n",
       "    <tr>\n",
       "      <th>32055</th>\n",
       "      <td>반월호수주차타워</td>\n",
       "      <td>30894</td>\n",
       "      <td>01</td>\n",
       "      <td>6</td>\n",
       "      <td>경기도 군포시 호수로 97</td>\n",
       "      <td>실내주차장</td>\n",
       "      <td>37.325129</td>\n",
       "      <td>126.890020</td>\n",
       "      <td>16</td>\n",
       "      <td>채비</td>\n",
       "      <td>...</td>\n",
       "      <td>41</td>\n",
       "      <td>41410</td>\n",
       "      <td>B0</td>\n",
       "      <td>B001</td>\n",
       "      <td>N</td>\n",
       "      <td>None</td>\n",
       "      <td>N</td>\n",
       "      <td>1</td>\n",
       "      <td>2</td>\n",
       "      <td>62</td>\n",
       "    </tr>\n",
       "    <tr>\n",
       "      <th>32056</th>\n",
       "      <td>반월호수주차타워</td>\n",
       "      <td>30894</td>\n",
       "      <td>03</td>\n",
       "      <td>2</td>\n",
       "      <td>경기도 군포시 호수로 97</td>\n",
       "      <td>실내주차장</td>\n",
       "      <td>37.325129</td>\n",
       "      <td>126.890020</td>\n",
       "      <td>16</td>\n",
       "      <td>채비</td>\n",
       "      <td>...</td>\n",
       "      <td>41</td>\n",
       "      <td>41410</td>\n",
       "      <td>B0</td>\n",
       "      <td>B001</td>\n",
       "      <td>N</td>\n",
       "      <td>None</td>\n",
       "      <td>N</td>\n",
       "      <td>0</td>\n",
       "      <td>4</td>\n",
       "      <td>62</td>\n",
       "    </tr>\n",
       "  </tbody>\n",
       "</table>\n",
       "<p>32057 rows × 25 columns</p>\n",
       "</div>"
      ],
      "text/plain": [
       "                statnm statid chgerid  chgertype                  addr  \\\n",
       "0           암사1동 공영주차장      0      01          6   서울특별시 강동구 고덕로28길 36   \n",
       "1          천호유수지 공영주차장      1      01          6      서울특별시 강동구 선사로 70   \n",
       "2         천호3동 제1공영주차장      2      01          6  서울특별시 강동구 진황도로29길 34   \n",
       "3        가로공원로 지하공영주차장      3      01          6   서울특별시 강서구 가로공원로 189   \n",
       "4      곰달래문화복지센터 공영주차장      4      01          6    서울특별시 강서구 강서로5길 50   \n",
       "...                ...    ...     ...        ...                   ...   \n",
       "32052            춘천우체국  30891      01          2   강원특별자치도 춘천시 방송길 108   \n",
       "32053             시흥시청  30892      01          4        경기도 시흥시 시청로 20   \n",
       "32054          군포동아아파트  30893      01          2   경기도 군포시 군포로490번길 22   \n",
       "32055         반월호수주차타워  30894      01          6        경기도 군포시 호수로 97   \n",
       "32056         반월호수주차타워  30894      03          2        경기도 군포시 호수로 97   \n",
       "\n",
       "       location        lat         lng  busiid   bnm  ... zcode zscode kind  \\\n",
       "0          null  37.552909  127.137255      63   환경부  ...    11  11740   B0   \n",
       "1          null  37.544812  127.121840      63   환경부  ...    11  11740   B0   \n",
       "2          null  37.538795  127.133399      63   환경부  ...    11  11740   B0   \n",
       "3          null  37.537263  126.838379      63   환경부  ...    11  11500   B0   \n",
       "4          null  37.528956  126.849089      63   환경부  ...    11  11500   B0   \n",
       "...         ...        ...         ...     ...   ...  ...   ...    ...  ...   \n",
       "32052      null  37.867039  127.720537      21  이지차저  ...    51  51110   A0   \n",
       "32053  지상1층 주차장  37.379704  126.801784      16    채비  ...    41  41390   A0   \n",
       "32054  지상1층 주차장  37.350012  126.946231      16    채비  ...    41  41410   H0   \n",
       "32055     실내주차장  37.325129  126.890020      16    채비  ...    41  41410   B0   \n",
       "32056     실내주차장  37.325129  126.890020      16    채비  ...    41  41410   B0   \n",
       "\n",
       "       kinddetail parkingfree                      note trafficyn speed Count  \\\n",
       "0            B001           N                      None         N     1     1   \n",
       "1            B001           N                      None         N     1     1   \n",
       "2            B001           N                      None         N     1     1   \n",
       "3            B001           N                      None         N     1     1   \n",
       "4            B001           N                      None         N     1     1   \n",
       "...           ...         ...                       ...       ...   ...   ...   \n",
       "32052        A003           N  관리 시설에 따른 이용 제한이 있을 수 있음         N     0     1   \n",
       "32053        A001           N                      None         N     1     6   \n",
       "32054        H001           Y                      None         N     0     7   \n",
       "32055        B001           N                      None         N     1     2   \n",
       "32056        B001           N                      None         N     0     4   \n",
       "\n",
       "      Cluster  \n",
       "0         349  \n",
       "1         347  \n",
       "2         347  \n",
       "3           4  \n",
       "4           4  \n",
       "...       ...  \n",
       "32052     462  \n",
       "32053      42  \n",
       "32054      66  \n",
       "32055      62  \n",
       "32056      62  \n",
       "\n",
       "[32057 rows x 25 columns]"
      ]
     },
     "execution_count": 6,
     "metadata": {},
     "output_type": "execute_result"
    }
   ],
   "source": [
    "meta"
   ]
  },
  {
   "cell_type": "code",
   "execution_count": 6,
   "metadata": {},
   "outputs": [],
   "source": [
    "def load_and_concatenate_batches(save_dir, n_batches):\n",
    "    batches = []\n",
    "    for u_batch_id in range(n_batches):\n",
    "        batch_file = os.path.join(save_dir, f'batch_{u_batch_id}.npy')\n",
    "        rate_batch = np.load(batch_file)\n",
    "        batches.append(rate_batch)\n",
    "    entire_rank = np.concatenate(batches, axis=0)\n",
    "    return entire_rank\n",
    "\n",
    "# 전체 배치 개수 계산\n",
    "n_batches = 25\n",
    "save_dir = './rank_batches2'\n",
    "# 저장된 배치 배열을 읽어서 결합\n",
    "entire_rank = load_and_concatenate_batches(save_dir, n_batches)"
   ]
  },
  {
   "cell_type": "code",
   "execution_count": 7,
   "metadata": {},
   "outputs": [
    {
     "data": {
      "text/plain": [
       "51200"
      ]
     },
     "execution_count": 7,
     "metadata": {},
     "output_type": "execute_result"
    }
   ],
   "source": [
    "len(entire_rank)"
   ]
  },
  {
   "cell_type": "code",
   "execution_count": 4,
   "metadata": {},
   "outputs": [],
   "source": [
    "def evaluation(result, driver_id, test_dv, meta, criteria):\n",
    "    location = test_dv.loc[test_dv['Driver'] == driver_id][criteria].values[0]\n",
    "    teststat = test_dv.loc[test_dv['Driver'] == driver_id]['statid'].values[0]\n",
    "    speed = test_dv.loc[test_dv['Driver'] == driver_id]['speed'].values\n",
    "    if len(speed) == 1:\n",
    "        flag = True\n",
    "    else:\n",
    "        flag = False\n",
    "\n",
    "    driver_pref = result[driver_id]\n",
    "    #[1011, 14000, 13000] -> statid의 list\n",
    "    driver_rank = driver_pref.argsort()[::-1].astype(str)\n",
    "    #하나의 Cluster로 위치 필터링\n",
    "    driver_meta = meta[meta[criteria] == location]\n",
    "    recommended_df = pd.DataFrame([])\n",
    "\n",
    "    for i in range(len(driver_rank)):\n",
    "        if len(recommended_df) > 19:\n",
    "            false_count = len(recommended_df) - recommended_df.duplicated('statid').sum()\n",
    "            if false_count == 20:\n",
    "                break\n",
    "        #추천된 statid가 Cluster에 속하면,\n",
    "        if driver_rank[i] in driver_meta['statid'].values:\n",
    "            stat_driver = driver_meta.loc[driver_meta['statid'] == driver_rank[i]]\n",
    "            #추천된 statid의 speed가 testset의 speed와 같으면,\n",
    "            if flag:\n",
    "                if stat_driver['speed'].values[0] == speed:\n",
    "                    recommended_df = pd.concat([recommended_df, stat_driver])\n",
    "            else:\n",
    "                recommended_df = pd.concat([recommended_df, stat_driver])\n",
    "                \n",
    "    if flag:\n",
    "        recommended_df = recommended_df.loc[recommended_df['speed'] == speed[0]].reset_index(drop=True)\n",
    "    else:\n",
    "        recommended_df = recommended_df.drop_duplicates('statid').reset_index(drop=True)\n",
    "\n",
    "    try:\n",
    "        rank = recommended_df.loc[recommended_df['statid'] == teststat].index[0] \n",
    "        rank = rank + 1\n",
    "    except:\n",
    "        rank = 0\n",
    "    return recommended_df, rank, len(recommended_df)"
   ]
  },
  {
   "cell_type": "code",
   "execution_count": 5,
   "metadata": {},
   "outputs": [],
   "source": [
    "def get_ndcg(recommended_df, test_dv, driver_id, K):\n",
    "    busiid = test_dv.loc[test_dv['Driver'] == driver_id]['busiid'].values[0]\n",
    "    ex = (recommended_df['busiid'] == busiid).values\n",
    "    \n",
    "    ndcgs = []\n",
    "    for j in K:\n",
    "        if len(ex) >= j:\n",
    "            dcg = 0\n",
    "            for i in range(j):\n",
    "                if ex[i] == True:\n",
    "                    dcg += 1/np.log2(2 + i)\n",
    "\n",
    "            idcg = 0\n",
    "            sum_ex = ex.sum()\n",
    "            if sum_ex >= j:\n",
    "                for i in range(j):\n",
    "                    idcg += 1/np.log2(2 + i)\n",
    "            else:\n",
    "                for i in range(sum_ex):\n",
    "                    idcg += 1/np.log2(2 + i)\n",
    "\n",
    "            if idcg == 0:\n",
    "                ndcgs.append(0)\n",
    "            else:\n",
    "                ndcgs.append(dcg/idcg)\n",
    "        else:\n",
    "            ndcgs.append(ndcgs[-1])\n",
    "\n",
    "    return ndcgs"
   ]
  },
  {
   "cell_type": "code",
   "execution_count": 17,
   "metadata": {},
   "outputs": [
    {
     "name": "stderr",
     "output_type": "stream",
     "text": [
      "100%|██████████| 10000/10000 [1:00:26<00:00,  2.76it/s]\n"
     ]
    }
   ],
   "source": [
    "ndcgs = []\n",
    "for i in tqdm(range(10000)):\n",
    "    a, b, c = evaluation(entire_rank, i, test_dv, meta, 'zscode')\n",
    "    try:\n",
    "        ndcg = get_ndcg(a, test_dv, i, [1, 5, 10, 15, 20])\n",
    "        ndcgs.append(ndcg)\n",
    "    except:\n",
    "        print(i)"
   ]
  },
  {
   "cell_type": "code",
   "execution_count": 18,
   "metadata": {},
   "outputs": [],
   "source": [
    "ndcgs = np.array(ndcgs)\n",
    "np.save('./rank_batches2/ndcgs_zscode_10000.npy', ndcgs)"
   ]
  },
  {
   "cell_type": "code",
   "execution_count": 20,
   "metadata": {},
   "outputs": [],
   "source": [
    "zscodendcg = np.load('./rank_batches2/ndcgs_zscode_10000.npy')"
   ]
  },
  {
   "cell_type": "code",
   "execution_count": 21,
   "metadata": {},
   "outputs": [
    {
     "data": {
      "text/plain": [
       "array([0.1165    , 0.15634209, 0.23074116, 0.29733332, 0.35604914])"
      ]
     },
     "execution_count": 21,
     "metadata": {},
     "output_type": "execute_result"
    }
   ],
   "source": [
    "zscodendcg.mean(axis=0)"
   ]
  },
  {
   "cell_type": "code",
   "execution_count": 37,
   "metadata": {},
   "outputs": [
    {
     "name": "stderr",
     "output_type": "stream",
     "text": [
      "100%|██████████| 10000/10000 [2:02:24<00:00,  1.36it/s] \n"
     ]
    }
   ],
   "source": [
    "ndcgs1 = []\n",
    "for i in tqdm(range(10000)):\n",
    "    a, b, c = evaluation(entire_rank, i, test_dv, meta, 'Cluster')\n",
    "    try:\n",
    "        ndcg = get_ndcg(a, test_dv, i, [1, 5, 10, 15 ,20])\n",
    "        ndcgs1.append(ndcg)\n",
    "    except:\n",
    "        print(i)"
   ]
  },
  {
   "cell_type": "code",
   "execution_count": 38,
   "metadata": {},
   "outputs": [],
   "source": [
    "ndcgs1 = np.array(ndcgs1)\n",
    "np.save('./rank_batches2/ndcgs_cluster_10000.npy', ndcgs1)"
   ]
  },
  {
   "cell_type": "code",
   "execution_count": 41,
   "metadata": {},
   "outputs": [],
   "source": [
    "clusterndcg = np.load('./rank_batches2/ndcgs_cluster_10000.npy')"
   ]
  },
  {
   "cell_type": "code",
   "execution_count": 42,
   "metadata": {},
   "outputs": [
    {
     "data": {
      "text/plain": [
       "array([0.1815    , 0.25604018, 0.34383757, 0.40077141, 0.44598624])"
      ]
     },
     "execution_count": 42,
     "metadata": {},
     "output_type": "execute_result"
    }
   ],
   "source": [
    "clusterndcg.mean(axis=0)"
   ]
  },
  {
   "cell_type": "code",
   "execution_count": 22,
   "metadata": {},
   "outputs": [],
   "source": [
    "def precision(rank, K):\n",
    "    pres_K = []\n",
    "    for k in K:\n",
    "        pres = []\n",
    "        for j in rank:\n",
    "            if (j[0] <= k) & (j[0] != 0):\n",
    "                pres.append(1)\n",
    "            else:\n",
    "                pres.append(0)\n",
    "        pres_K.append(np.sum(pres))\n",
    "    return pres_K"
   ]
  },
  {
   "cell_type": "code",
   "execution_count": 24,
   "metadata": {},
   "outputs": [],
   "source": [
    "pres = precision(zscodendcg, [1, 5, 10, 15, 20])"
   ]
  },
  {
   "cell_type": "code",
   "execution_count": 25,
   "metadata": {},
   "outputs": [
    {
     "data": {
      "text/plain": [
       "[1165, 1165, 1165, 1165, 1165]"
      ]
     },
     "execution_count": 25,
     "metadata": {},
     "output_type": "execute_result"
    }
   ],
   "source": [
    "pres"
   ]
  },
  {
   "cell_type": "code",
   "execution_count": 26,
   "metadata": {},
   "outputs": [
    {
     "data": {
      "text/plain": [
       "array([[0.        , 0.1695801 , 0.1695801 , 0.25866037, 0.49831084],\n",
       "       [0.        , 0.        , 0.        , 0.26264954, 0.26264954],\n",
       "       [0.        , 0.        , 0.27691895, 0.40017479, 0.40017479],\n",
       "       ...,\n",
       "       [0.        , 0.        , 0.        , 0.        , 0.24465054],\n",
       "       [0.        , 0.        , 0.        , 0.        , 0.        ],\n",
       "       [0.        , 0.4776237 , 0.63404995, 0.63404995, 0.63404995]])"
      ]
     },
     "execution_count": 26,
     "metadata": {},
     "output_type": "execute_result"
    }
   ],
   "source": [
    "zscodendcg"
   ]
  },
  {
   "cell_type": "code",
   "execution_count": 28,
   "metadata": {},
   "outputs": [],
   "source": [
    "a, b, c = evaluation(entire_rank, 0, test_dv, meta, 'zscode')"
   ]
  },
  {
   "cell_type": "code",
   "execution_count": 51,
   "metadata": {},
   "outputs": [
    {
     "data": {
      "text/plain": [
       "0        경기도 용인시 수지구 포은대로59번길 18\n",
       "1           경기도 용인시 수지구 성복2로 220\n",
       "2         경기도 용인시 처인구 남사읍 한숲로 83\n",
       "3         경기도 용인시 수지구 만현로67번길 20\n",
       "4            경기도 용인시 수지구 성복2로 10\n",
       "5            경기도 용인시 수지구 성복1로 91\n",
       "6         경기도 용인시 기흥구 구성로 105-15\n",
       "7            경기도 용인시 기흥구 삼성2로 93\n",
       "8           경기도 용인시 기흥구 강남동로 128\n",
       "9           경기도 용인시 수지구 신봉1로 110\n",
       "10           경기도 용인시 수지구 죽전로 267\n",
       "11    경기도 용인시 기흥구 동백죽전대로527번길 80\n",
       "12           경기도 용인시 기흥구 구성로 357\n",
       "13        경기도 용인시 수지구 만현로67번길 20\n",
       "14            경기도 용인시 기흥구 공세로 76\n",
       "15      경기도 용인시 기흥구 중부대로746번길 21\n",
       "16          경기도 용인시 기흥구 동백중앙로 41\n",
       "17      경기도 용인시 기흥구 동백8로131번길 20\n",
       "18            경기도 용인시 기흥구 예현로 15\n",
       "19        경기도 용인시 기흥구 사은로84번길 10\n",
       "Name: addr, dtype: object"
      ]
     },
     "execution_count": 51,
     "metadata": {},
     "output_type": "execute_result"
    }
   ],
   "source": [
    "a['addr']"
   ]
  },
  {
   "cell_type": "code",
   "execution_count": 30,
   "metadata": {},
   "outputs": [
    {
     "data": {
      "text/plain": [
       "0"
      ]
     },
     "execution_count": 30,
     "metadata": {},
     "output_type": "execute_result"
    }
   ],
   "source": [
    "b"
   ]
  },
  {
   "cell_type": "code",
   "execution_count": 31,
   "metadata": {},
   "outputs": [
    {
     "data": {
      "text/plain": [
       "20"
      ]
     },
     "execution_count": 31,
     "metadata": {},
     "output_type": "execute_result"
    }
   ],
   "source": [
    "c"
   ]
  },
  {
   "cell_type": "code",
   "execution_count": 68,
   "metadata": {},
   "outputs": [
    {
     "data": {
      "text/plain": [
       "'840'"
      ]
     },
     "execution_count": 68,
     "metadata": {},
     "output_type": "execute_result"
    }
   ],
   "source": [
    "test_dv.loc[test_dv['Driver'] == 0]['statid'].values[0]"
   ]
  },
  {
   "cell_type": "code",
   "execution_count": 66,
   "metadata": {},
   "outputs": [],
   "source": [
    "a, b, c = evaluation(entire_rank, 0, test_dv, meta, 'Cluster')"
   ]
  },
  {
   "cell_type": "code",
   "execution_count": 69,
   "metadata": {},
   "outputs": [
    {
     "data": {
      "text/plain": [
       "0      839\n",
       "1    20794\n",
       "2    19776\n",
       "3      815\n",
       "4      840\n",
       "Name: statid, dtype: object"
      ]
     },
     "execution_count": 69,
     "metadata": {},
     "output_type": "execute_result"
    }
   ],
   "source": [
    "a['statid']"
   ]
  },
  {
   "cell_type": "code",
   "execution_count": 63,
   "metadata": {},
   "outputs": [
    {
     "name": "stdout",
     "output_type": "stream",
     "text": [
      "19711\n",
      "19712\n",
      "1373\n",
      "19706\n",
      "1935\n",
      "19707\n",
      "20784\n",
      "20795\n",
      "496\n",
      "569\n",
      "20796\n",
      "571\n",
      "772\n",
      "20789\n"
     ]
    }
   ],
   "source": [
    "for k in test_dv['statid'].unique():\n",
    "    if k in a['statid'].unique():\n",
    "        print(k)\n",
    "    else:\n",
    "        pass"
   ]
  },
  {
   "cell_type": "code",
   "execution_count": 8,
   "metadata": {},
   "outputs": [],
   "source": [
    "def get_recall(recommended_df, test_dv, driver_id, K):\n",
    "    criteria = test_dv.loc[test_dv['Driver'] == driver_id]['statid'].values[0]\n",
    "    ex = recommended_df['statid']\n",
    "    \n",
    "    pres_K = []\n",
    "    for k in K:\n",
    "        if (criteria in list(ex[:k])):\n",
    "            pres_K.append(1)\n",
    "        else:\n",
    "            pres_K.append(0)\n",
    "    return np.array(pres_K)"
   ]
  },
  {
   "cell_type": "code",
   "execution_count": 9,
   "metadata": {},
   "outputs": [
    {
     "name": "stderr",
     "output_type": "stream",
     "text": [
      "100%|██████████| 51200/51200 [5:12:16<00:00,  2.73it/s]   \n"
     ]
    }
   ],
   "source": [
    "recalls = np.zeros(5)\n",
    "for i in tqdm(range(51200)):\n",
    "    a, b, c = evaluation(entire_rank, i, test_dv, meta, 'zscode')\n",
    "    try:\n",
    "        recall = get_recall(a, test_dv, i, [1, 5, 10, 15, 20])\n",
    "        recalls += recall\n",
    "    except:\n",
    "        print(i)"
   ]
  },
  {
   "cell_type": "code",
   "execution_count": 112,
   "metadata": {},
   "outputs": [
    {
     "data": {
      "text/plain": [
       "array([0.024 , 0.0805, 0.1411, 0.193 , 0.239 ])"
      ]
     },
     "execution_count": 112,
     "metadata": {},
     "output_type": "execute_result"
    }
   ],
   "source": [
    "recalls/10000"
   ]
  },
  {
   "cell_type": "code",
   "execution_count": 10,
   "metadata": {},
   "outputs": [
    {
     "data": {
      "text/plain": [
       "array([0.02417969, 0.08464844, 0.14335938, 0.19392578, 0.24007813])"
      ]
     },
     "execution_count": 10,
     "metadata": {},
     "output_type": "execute_result"
    }
   ],
   "source": [
    "recalls/51200"
   ]
  },
  {
   "cell_type": "code",
   "execution_count": 47,
   "metadata": {},
   "outputs": [
    {
     "data": {
      "text/plain": [
       "array([0., 0., 0., 0., 0.])"
      ]
     },
     "execution_count": 47,
     "metadata": {},
     "output_type": "execute_result"
    }
   ],
   "source": [
    "recalls"
   ]
  },
  {
   "cell_type": "code",
   "execution_count": 113,
   "metadata": {},
   "outputs": [
    {
     "name": "stderr",
     "output_type": "stream",
     "text": [
      "100%|██████████| 10000/10000 [2:02:36<00:00,  1.36it/s] \n"
     ]
    }
   ],
   "source": [
    "recalls1 = np.zeros(5)\n",
    "for i in tqdm(range(51200)):\n",
    "    a, b, c = evaluation(entire_rank, i, test_dv, meta, 'Cluster')\n",
    "    try:\n",
    "        recall = get_recall(a, test_dv, i, [1, 5, 10, 15, 20])\n",
    "        recalls1 += recall\n",
    "    except:\n",
    "        print(i)"
   ]
  },
  {
   "cell_type": "code",
   "execution_count": 114,
   "metadata": {},
   "outputs": [
    {
     "data": {
      "text/plain": [
       "array([0.0744, 0.2803, 0.4456, 0.5438, 0.6118])"
      ]
     },
     "execution_count": 114,
     "metadata": {},
     "output_type": "execute_result"
    }
   ],
   "source": [
    "recalls1/10000"
   ]
  },
  {
   "cell_type": "code",
   "execution_count": null,
   "metadata": {},
   "outputs": [],
   "source": [
    "recalls1/51200"
   ]
  },
  {
   "cell_type": "code",
   "execution_count": 92,
   "metadata": {},
   "outputs": [
    {
     "data": {
      "text/plain": [
       "10240"
      ]
     },
     "execution_count": 92,
     "metadata": {},
     "output_type": "execute_result"
    }
   ],
   "source": [
    "len(entire_rank)"
   ]
  },
  {
   "cell_type": "code",
   "execution_count": 106,
   "metadata": {},
   "outputs": [],
   "source": [
    "a, b, c = evaluation(entire_rank, 0, test_dv, meta, 'Cluster')"
   ]
  },
  {
   "cell_type": "code",
   "execution_count": 107,
   "metadata": {},
   "outputs": [],
   "source": [
    "recall = get_recall(a, test_dv, 0, [1, 5, 10, 15, 20])"
   ]
  },
  {
   "cell_type": "code",
   "execution_count": 108,
   "metadata": {},
   "outputs": [
    {
     "data": {
      "text/plain": [
       "array([0, 1, 1, 1, 1])"
      ]
     },
     "execution_count": 108,
     "metadata": {},
     "output_type": "execute_result"
    }
   ],
   "source": [
    "recall"
   ]
  },
  {
   "cell_type": "code",
   "execution_count": 109,
   "metadata": {},
   "outputs": [],
   "source": [
    "recalls1 += recall"
   ]
  },
  {
   "cell_type": "code",
   "execution_count": 110,
   "metadata": {},
   "outputs": [
    {
     "data": {
      "text/plain": [
       "array([0., 1., 1., 1., 2.])"
      ]
     },
     "execution_count": 110,
     "metadata": {},
     "output_type": "execute_result"
    }
   ],
   "source": [
    "recalls1"
   ]
  },
  {
   "cell_type": "code",
   "execution_count": null,
   "metadata": {},
   "outputs": [],
   "source": []
  }
 ],
 "metadata": {
  "kernelspec": {
   "display_name": "Python 3 (ipykernel)",
   "language": "python",
   "name": "python3"
  },
  "language_info": {
   "codemirror_mode": {
    "name": "ipython",
    "version": 3
   },
   "file_extension": ".py",
   "mimetype": "text/x-python",
   "name": "python",
   "nbconvert_exporter": "python",
   "pygments_lexer": "ipython3",
   "version": "3.8.10"
  }
 },
 "nbformat": 4,
 "nbformat_minor": 4
}
